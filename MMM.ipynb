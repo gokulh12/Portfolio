{
 "cells": [
  {
   "cell_type": "code",
   "execution_count": 65,
   "id": "26452d4e",
   "metadata": {},
   "outputs": [],
   "source": [
    "import pandas as pd\n",
    "import plotly.express as px\n",
    "import statsmodels.api as sm\n",
    "from sklearn.linear_model import LinearRegression\n",
    "from sklearn.model_selection import train_test_split"
   ]
  },
  {
   "cell_type": "code",
   "execution_count": 66,
   "id": "86c97172",
   "metadata": {},
   "outputs": [
    {
     "data": {
      "text/html": [
       "<div>\n",
       "<style scoped>\n",
       "    .dataframe tbody tr th:only-of-type {\n",
       "        vertical-align: middle;\n",
       "    }\n",
       "\n",
       "    .dataframe tbody tr th {\n",
       "        vertical-align: top;\n",
       "    }\n",
       "\n",
       "    .dataframe thead th {\n",
       "        text-align: right;\n",
       "    }\n",
       "</style>\n",
       "<table border=\"1\" class=\"dataframe\">\n",
       "  <thead>\n",
       "    <tr style=\"text-align: right;\">\n",
       "      <th></th>\n",
       "      <th>ordine_data</th>\n",
       "      <th>revenue</th>\n",
       "      <th>google_search_spent</th>\n",
       "      <th>google_performance_max_spent</th>\n",
       "      <th>fb_retargeting_spent</th>\n",
       "      <th>fb_prospecting_spent</th>\n",
       "      <th>google_organico</th>\n",
       "      <th>Sconti</th>\n",
       "    </tr>\n",
       "  </thead>\n",
       "  <tbody>\n",
       "    <tr>\n",
       "      <th>0</th>\n",
       "      <td>2020-07-01</td>\n",
       "      <td>1878.71</td>\n",
       "      <td>93.04</td>\n",
       "      <td>0.00</td>\n",
       "      <td>0.00</td>\n",
       "      <td>0.00</td>\n",
       "      <td>0</td>\n",
       "      <td>1</td>\n",
       "    </tr>\n",
       "    <tr>\n",
       "      <th>1</th>\n",
       "      <td>2020-07-02</td>\n",
       "      <td>2057.76</td>\n",
       "      <td>81.20</td>\n",
       "      <td>0.00</td>\n",
       "      <td>0.00</td>\n",
       "      <td>0.00</td>\n",
       "      <td>0</td>\n",
       "      <td>1</td>\n",
       "    </tr>\n",
       "    <tr>\n",
       "      <th>2</th>\n",
       "      <td>2020-07-03</td>\n",
       "      <td>1930.55</td>\n",
       "      <td>69.40</td>\n",
       "      <td>0.00</td>\n",
       "      <td>0.00</td>\n",
       "      <td>0.00</td>\n",
       "      <td>0</td>\n",
       "      <td>2</td>\n",
       "    </tr>\n",
       "    <tr>\n",
       "      <th>3</th>\n",
       "      <td>2020-07-04</td>\n",
       "      <td>778.36</td>\n",
       "      <td>34.94</td>\n",
       "      <td>0.00</td>\n",
       "      <td>0.00</td>\n",
       "      <td>0.00</td>\n",
       "      <td>0</td>\n",
       "      <td>0</td>\n",
       "    </tr>\n",
       "    <tr>\n",
       "      <th>4</th>\n",
       "      <td>2020-07-05</td>\n",
       "      <td>1753.69</td>\n",
       "      <td>90.33</td>\n",
       "      <td>0.00</td>\n",
       "      <td>0.00</td>\n",
       "      <td>0.00</td>\n",
       "      <td>0</td>\n",
       "      <td>1</td>\n",
       "    </tr>\n",
       "    <tr>\n",
       "      <th>...</th>\n",
       "      <td>...</td>\n",
       "      <td>...</td>\n",
       "      <td>...</td>\n",
       "      <td>...</td>\n",
       "      <td>...</td>\n",
       "      <td>...</td>\n",
       "      <td>...</td>\n",
       "      <td>...</td>\n",
       "    </tr>\n",
       "    <tr>\n",
       "      <th>591</th>\n",
       "      <td>2022-02-17</td>\n",
       "      <td>6061.37</td>\n",
       "      <td>347.75</td>\n",
       "      <td>125.32</td>\n",
       "      <td>19.96</td>\n",
       "      <td>30.44</td>\n",
       "      <td>5003</td>\n",
       "      <td>9</td>\n",
       "    </tr>\n",
       "    <tr>\n",
       "      <th>592</th>\n",
       "      <td>2022-02-18</td>\n",
       "      <td>3722.15</td>\n",
       "      <td>258.10</td>\n",
       "      <td>79.30</td>\n",
       "      <td>20.31</td>\n",
       "      <td>31.06</td>\n",
       "      <td>4696</td>\n",
       "      <td>14</td>\n",
       "    </tr>\n",
       "    <tr>\n",
       "      <th>593</th>\n",
       "      <td>2022-02-19</td>\n",
       "      <td>2670.47</td>\n",
       "      <td>92.04</td>\n",
       "      <td>9.96</td>\n",
       "      <td>23.16</td>\n",
       "      <td>33.75</td>\n",
       "      <td>3058</td>\n",
       "      <td>8</td>\n",
       "    </tr>\n",
       "    <tr>\n",
       "      <th>594</th>\n",
       "      <td>2022-02-20</td>\n",
       "      <td>3385.87</td>\n",
       "      <td>86.37</td>\n",
       "      <td>40.50</td>\n",
       "      <td>19.90</td>\n",
       "      <td>30.59</td>\n",
       "      <td>1398</td>\n",
       "      <td>3</td>\n",
       "    </tr>\n",
       "    <tr>\n",
       "      <th>595</th>\n",
       "      <td>2022-02-21</td>\n",
       "      <td>372.27</td>\n",
       "      <td>42.17</td>\n",
       "      <td>22.04</td>\n",
       "      <td>1.33</td>\n",
       "      <td>2.13</td>\n",
       "      <td>0</td>\n",
       "      <td>0</td>\n",
       "    </tr>\n",
       "  </tbody>\n",
       "</table>\n",
       "<p>596 rows × 8 columns</p>\n",
       "</div>"
      ],
      "text/plain": [
       "    ordine_data  revenue  google_search_spent  google_performance_max_spent  \\\n",
       "0    2020-07-01  1878.71                93.04                          0.00   \n",
       "1    2020-07-02  2057.76                81.20                          0.00   \n",
       "2    2020-07-03  1930.55                69.40                          0.00   \n",
       "3    2020-07-04   778.36                34.94                          0.00   \n",
       "4    2020-07-05  1753.69                90.33                          0.00   \n",
       "..          ...      ...                  ...                           ...   \n",
       "591  2022-02-17  6061.37               347.75                        125.32   \n",
       "592  2022-02-18  3722.15               258.10                         79.30   \n",
       "593  2022-02-19  2670.47                92.04                          9.96   \n",
       "594  2022-02-20  3385.87                86.37                         40.50   \n",
       "595  2022-02-21   372.27                42.17                         22.04   \n",
       "\n",
       "     fb_retargeting_spent  fb_prospecting_spent  google_organico  Sconti  \n",
       "0                    0.00                  0.00                0       1  \n",
       "1                    0.00                  0.00                0       1  \n",
       "2                    0.00                  0.00                0       2  \n",
       "3                    0.00                  0.00                0       0  \n",
       "4                    0.00                  0.00                0       1  \n",
       "..                    ...                   ...              ...     ...  \n",
       "591                 19.96                 30.44             5003       9  \n",
       "592                 20.31                 31.06             4696      14  \n",
       "593                 23.16                 33.75             3058       8  \n",
       "594                 19.90                 30.59             1398       3  \n",
       "595                  1.33                  2.13                0       0  \n",
       "\n",
       "[596 rows x 8 columns]"
      ]
     },
     "execution_count": 66,
     "metadata": {},
     "output_type": "execute_result"
    }
   ],
   "source": [
    "data = pd.read_csv('dataset_real.csv')\n",
    "data"
   ]
  },
  {
   "cell_type": "code",
   "execution_count": 67,
   "id": "4613b6bf",
   "metadata": {},
   "outputs": [
    {
     "data": {
      "text/plain": [
       "ordine_data                      object\n",
       "revenue                         float64\n",
       "google_search_spent             float64\n",
       "google_performance_max_spent    float64\n",
       "fb_retargeting_spent            float64\n",
       "fb_prospecting_spent            float64\n",
       "google_organico                   int64\n",
       "Sconti                            int64\n",
       "dtype: object"
      ]
     },
     "execution_count": 67,
     "metadata": {},
     "output_type": "execute_result"
    }
   ],
   "source": [
    "data.dtypes"
   ]
  },
  {
   "cell_type": "code",
   "execution_count": 68,
   "id": "b9e65aac",
   "metadata": {},
   "outputs": [],
   "source": [
    "data['ordine_data'] = pd.to_datetime(data['ordine_data'])\n"
   ]
  },
  {
   "cell_type": "code",
   "execution_count": 69,
   "id": "43dd0e8c",
   "metadata": {},
   "outputs": [],
   "source": [
    "#transforming date \n",
    "data['year'] = data['ordine_data'].dt.year\n",
    "data['month'] = data['ordine_data'].dt.month\n",
    "data['day_of_week'] = data['ordine_data'].dt.dayofweek\n",
    "data['day'] = data['ordine_data'].dt.day"
   ]
  },
  {
   "cell_type": "code",
   "execution_count": 70,
   "id": "a5cd707c",
   "metadata": {},
   "outputs": [
    {
     "data": {
      "text/html": [
       "<div>\n",
       "<style scoped>\n",
       "    .dataframe tbody tr th:only-of-type {\n",
       "        vertical-align: middle;\n",
       "    }\n",
       "\n",
       "    .dataframe tbody tr th {\n",
       "        vertical-align: top;\n",
       "    }\n",
       "\n",
       "    .dataframe thead th {\n",
       "        text-align: right;\n",
       "    }\n",
       "</style>\n",
       "<table border=\"1\" class=\"dataframe\">\n",
       "  <thead>\n",
       "    <tr style=\"text-align: right;\">\n",
       "      <th></th>\n",
       "      <th>ordine_data</th>\n",
       "      <th>revenue</th>\n",
       "      <th>google_search_spent</th>\n",
       "      <th>google_performance_max_spent</th>\n",
       "      <th>fb_retargeting_spent</th>\n",
       "      <th>fb_prospecting_spent</th>\n",
       "      <th>google_organico</th>\n",
       "      <th>Sconti</th>\n",
       "      <th>year</th>\n",
       "      <th>month</th>\n",
       "      <th>day_of_week</th>\n",
       "      <th>day</th>\n",
       "    </tr>\n",
       "  </thead>\n",
       "  <tbody>\n",
       "    <tr>\n",
       "      <th>0</th>\n",
       "      <td>2020-07-01</td>\n",
       "      <td>1878.71</td>\n",
       "      <td>93.04</td>\n",
       "      <td>0.00</td>\n",
       "      <td>0.00</td>\n",
       "      <td>0.00</td>\n",
       "      <td>0</td>\n",
       "      <td>1</td>\n",
       "      <td>2020</td>\n",
       "      <td>7</td>\n",
       "      <td>2</td>\n",
       "      <td>1</td>\n",
       "    </tr>\n",
       "    <tr>\n",
       "      <th>1</th>\n",
       "      <td>2020-07-02</td>\n",
       "      <td>2057.76</td>\n",
       "      <td>81.20</td>\n",
       "      <td>0.00</td>\n",
       "      <td>0.00</td>\n",
       "      <td>0.00</td>\n",
       "      <td>0</td>\n",
       "      <td>1</td>\n",
       "      <td>2020</td>\n",
       "      <td>7</td>\n",
       "      <td>3</td>\n",
       "      <td>2</td>\n",
       "    </tr>\n",
       "    <tr>\n",
       "      <th>2</th>\n",
       "      <td>2020-07-03</td>\n",
       "      <td>1930.55</td>\n",
       "      <td>69.40</td>\n",
       "      <td>0.00</td>\n",
       "      <td>0.00</td>\n",
       "      <td>0.00</td>\n",
       "      <td>0</td>\n",
       "      <td>2</td>\n",
       "      <td>2020</td>\n",
       "      <td>7</td>\n",
       "      <td>4</td>\n",
       "      <td>3</td>\n",
       "    </tr>\n",
       "    <tr>\n",
       "      <th>3</th>\n",
       "      <td>2020-07-04</td>\n",
       "      <td>778.36</td>\n",
       "      <td>34.94</td>\n",
       "      <td>0.00</td>\n",
       "      <td>0.00</td>\n",
       "      <td>0.00</td>\n",
       "      <td>0</td>\n",
       "      <td>0</td>\n",
       "      <td>2020</td>\n",
       "      <td>7</td>\n",
       "      <td>5</td>\n",
       "      <td>4</td>\n",
       "    </tr>\n",
       "    <tr>\n",
       "      <th>4</th>\n",
       "      <td>2020-07-05</td>\n",
       "      <td>1753.69</td>\n",
       "      <td>90.33</td>\n",
       "      <td>0.00</td>\n",
       "      <td>0.00</td>\n",
       "      <td>0.00</td>\n",
       "      <td>0</td>\n",
       "      <td>1</td>\n",
       "      <td>2020</td>\n",
       "      <td>7</td>\n",
       "      <td>6</td>\n",
       "      <td>5</td>\n",
       "    </tr>\n",
       "    <tr>\n",
       "      <th>...</th>\n",
       "      <td>...</td>\n",
       "      <td>...</td>\n",
       "      <td>...</td>\n",
       "      <td>...</td>\n",
       "      <td>...</td>\n",
       "      <td>...</td>\n",
       "      <td>...</td>\n",
       "      <td>...</td>\n",
       "      <td>...</td>\n",
       "      <td>...</td>\n",
       "      <td>...</td>\n",
       "      <td>...</td>\n",
       "    </tr>\n",
       "    <tr>\n",
       "      <th>591</th>\n",
       "      <td>2022-02-17</td>\n",
       "      <td>6061.37</td>\n",
       "      <td>347.75</td>\n",
       "      <td>125.32</td>\n",
       "      <td>19.96</td>\n",
       "      <td>30.44</td>\n",
       "      <td>5003</td>\n",
       "      <td>9</td>\n",
       "      <td>2022</td>\n",
       "      <td>2</td>\n",
       "      <td>3</td>\n",
       "      <td>17</td>\n",
       "    </tr>\n",
       "    <tr>\n",
       "      <th>592</th>\n",
       "      <td>2022-02-18</td>\n",
       "      <td>3722.15</td>\n",
       "      <td>258.10</td>\n",
       "      <td>79.30</td>\n",
       "      <td>20.31</td>\n",
       "      <td>31.06</td>\n",
       "      <td>4696</td>\n",
       "      <td>14</td>\n",
       "      <td>2022</td>\n",
       "      <td>2</td>\n",
       "      <td>4</td>\n",
       "      <td>18</td>\n",
       "    </tr>\n",
       "    <tr>\n",
       "      <th>593</th>\n",
       "      <td>2022-02-19</td>\n",
       "      <td>2670.47</td>\n",
       "      <td>92.04</td>\n",
       "      <td>9.96</td>\n",
       "      <td>23.16</td>\n",
       "      <td>33.75</td>\n",
       "      <td>3058</td>\n",
       "      <td>8</td>\n",
       "      <td>2022</td>\n",
       "      <td>2</td>\n",
       "      <td>5</td>\n",
       "      <td>19</td>\n",
       "    </tr>\n",
       "    <tr>\n",
       "      <th>594</th>\n",
       "      <td>2022-02-20</td>\n",
       "      <td>3385.87</td>\n",
       "      <td>86.37</td>\n",
       "      <td>40.50</td>\n",
       "      <td>19.90</td>\n",
       "      <td>30.59</td>\n",
       "      <td>1398</td>\n",
       "      <td>3</td>\n",
       "      <td>2022</td>\n",
       "      <td>2</td>\n",
       "      <td>6</td>\n",
       "      <td>20</td>\n",
       "    </tr>\n",
       "    <tr>\n",
       "      <th>595</th>\n",
       "      <td>2022-02-21</td>\n",
       "      <td>372.27</td>\n",
       "      <td>42.17</td>\n",
       "      <td>22.04</td>\n",
       "      <td>1.33</td>\n",
       "      <td>2.13</td>\n",
       "      <td>0</td>\n",
       "      <td>0</td>\n",
       "      <td>2022</td>\n",
       "      <td>2</td>\n",
       "      <td>0</td>\n",
       "      <td>21</td>\n",
       "    </tr>\n",
       "  </tbody>\n",
       "</table>\n",
       "<p>596 rows × 12 columns</p>\n",
       "</div>"
      ],
      "text/plain": [
       "    ordine_data  revenue  google_search_spent  google_performance_max_spent  \\\n",
       "0    2020-07-01  1878.71                93.04                          0.00   \n",
       "1    2020-07-02  2057.76                81.20                          0.00   \n",
       "2    2020-07-03  1930.55                69.40                          0.00   \n",
       "3    2020-07-04   778.36                34.94                          0.00   \n",
       "4    2020-07-05  1753.69                90.33                          0.00   \n",
       "..          ...      ...                  ...                           ...   \n",
       "591  2022-02-17  6061.37               347.75                        125.32   \n",
       "592  2022-02-18  3722.15               258.10                         79.30   \n",
       "593  2022-02-19  2670.47                92.04                          9.96   \n",
       "594  2022-02-20  3385.87                86.37                         40.50   \n",
       "595  2022-02-21   372.27                42.17                         22.04   \n",
       "\n",
       "     fb_retargeting_spent  fb_prospecting_spent  google_organico  Sconti  \\\n",
       "0                    0.00                  0.00                0       1   \n",
       "1                    0.00                  0.00                0       1   \n",
       "2                    0.00                  0.00                0       2   \n",
       "3                    0.00                  0.00                0       0   \n",
       "4                    0.00                  0.00                0       1   \n",
       "..                    ...                   ...              ...     ...   \n",
       "591                 19.96                 30.44             5003       9   \n",
       "592                 20.31                 31.06             4696      14   \n",
       "593                 23.16                 33.75             3058       8   \n",
       "594                 19.90                 30.59             1398       3   \n",
       "595                  1.33                  2.13                0       0   \n",
       "\n",
       "     year  month  day_of_week  day  \n",
       "0    2020      7            2    1  \n",
       "1    2020      7            3    2  \n",
       "2    2020      7            4    3  \n",
       "3    2020      7            5    4  \n",
       "4    2020      7            6    5  \n",
       "..    ...    ...          ...  ...  \n",
       "591  2022      2            3   17  \n",
       "592  2022      2            4   18  \n",
       "593  2022      2            5   19  \n",
       "594  2022      2            6   20  \n",
       "595  2022      2            0   21  \n",
       "\n",
       "[596 rows x 12 columns]"
      ]
     },
     "execution_count": 70,
     "metadata": {},
     "output_type": "execute_result"
    }
   ],
   "source": [
    "data "
   ]
  },
  {
   "cell_type": "code",
   "execution_count": 71,
   "id": "0f62f043",
   "metadata": {},
   "outputs": [
    {
     "data": {
      "text/html": [
       "<div>\n",
       "<style scoped>\n",
       "    .dataframe tbody tr th:only-of-type {\n",
       "        vertical-align: middle;\n",
       "    }\n",
       "\n",
       "    .dataframe tbody tr th {\n",
       "        vertical-align: top;\n",
       "    }\n",
       "\n",
       "    .dataframe thead th {\n",
       "        text-align: right;\n",
       "    }\n",
       "</style>\n",
       "<table border=\"1\" class=\"dataframe\">\n",
       "  <thead>\n",
       "    <tr style=\"text-align: right;\">\n",
       "      <th></th>\n",
       "      <th>revenue</th>\n",
       "      <th>google_search_spent</th>\n",
       "      <th>google_performance_max_spent</th>\n",
       "      <th>fb_retargeting_spent</th>\n",
       "      <th>fb_prospecting_spent</th>\n",
       "      <th>google_organico</th>\n",
       "      <th>Sconti</th>\n",
       "      <th>year</th>\n",
       "      <th>month</th>\n",
       "      <th>day_of_week</th>\n",
       "      <th>day</th>\n",
       "    </tr>\n",
       "  </thead>\n",
       "  <tbody>\n",
       "    <tr>\n",
       "      <th>revenue</th>\n",
       "      <td>1.000000</td>\n",
       "      <td>0.158135</td>\n",
       "      <td>-0.217984</td>\n",
       "      <td>-0.212061</td>\n",
       "      <td>-0.294907</td>\n",
       "      <td>-0.086580</td>\n",
       "      <td>0.551863</td>\n",
       "      <td>-0.362986</td>\n",
       "      <td>0.180766</td>\n",
       "      <td>-0.507910</td>\n",
       "      <td>0.073717</td>\n",
       "    </tr>\n",
       "    <tr>\n",
       "      <th>google_search_spent</th>\n",
       "      <td>0.158135</td>\n",
       "      <td>1.000000</td>\n",
       "      <td>0.253990</td>\n",
       "      <td>0.336720</td>\n",
       "      <td>0.387373</td>\n",
       "      <td>0.221361</td>\n",
       "      <td>0.113703</td>\n",
       "      <td>0.345391</td>\n",
       "      <td>-0.150315</td>\n",
       "      <td>-0.278167</td>\n",
       "      <td>0.053767</td>\n",
       "    </tr>\n",
       "    <tr>\n",
       "      <th>google_performance_max_spent</th>\n",
       "      <td>-0.217984</td>\n",
       "      <td>0.253990</td>\n",
       "      <td>1.000000</td>\n",
       "      <td>0.245441</td>\n",
       "      <td>0.309073</td>\n",
       "      <td>0.573396</td>\n",
       "      <td>0.030912</td>\n",
       "      <td>0.497379</td>\n",
       "      <td>0.038579</td>\n",
       "      <td>-0.107477</td>\n",
       "      <td>0.088795</td>\n",
       "    </tr>\n",
       "    <tr>\n",
       "      <th>fb_retargeting_spent</th>\n",
       "      <td>-0.212061</td>\n",
       "      <td>0.336720</td>\n",
       "      <td>0.245441</td>\n",
       "      <td>1.000000</td>\n",
       "      <td>0.870278</td>\n",
       "      <td>0.219663</td>\n",
       "      <td>-0.017276</td>\n",
       "      <td>0.400733</td>\n",
       "      <td>-0.081120</td>\n",
       "      <td>-0.009358</td>\n",
       "      <td>0.008475</td>\n",
       "    </tr>\n",
       "    <tr>\n",
       "      <th>fb_prospecting_spent</th>\n",
       "      <td>-0.294907</td>\n",
       "      <td>0.387373</td>\n",
       "      <td>0.309073</td>\n",
       "      <td>0.870278</td>\n",
       "      <td>1.000000</td>\n",
       "      <td>0.148569</td>\n",
       "      <td>-0.067479</td>\n",
       "      <td>0.429200</td>\n",
       "      <td>-0.045990</td>\n",
       "      <td>-0.006461</td>\n",
       "      <td>-0.013582</td>\n",
       "    </tr>\n",
       "    <tr>\n",
       "      <th>google_organico</th>\n",
       "      <td>-0.086580</td>\n",
       "      <td>0.221361</td>\n",
       "      <td>0.573396</td>\n",
       "      <td>0.219663</td>\n",
       "      <td>0.148569</td>\n",
       "      <td>1.000000</td>\n",
       "      <td>0.209871</td>\n",
       "      <td>0.515584</td>\n",
       "      <td>0.136474</td>\n",
       "      <td>-0.130850</td>\n",
       "      <td>-0.000307</td>\n",
       "    </tr>\n",
       "    <tr>\n",
       "      <th>Sconti</th>\n",
       "      <td>0.551863</td>\n",
       "      <td>0.113703</td>\n",
       "      <td>0.030912</td>\n",
       "      <td>-0.017276</td>\n",
       "      <td>-0.067479</td>\n",
       "      <td>0.209871</td>\n",
       "      <td>1.000000</td>\n",
       "      <td>-0.073628</td>\n",
       "      <td>0.236032</td>\n",
       "      <td>-0.172997</td>\n",
       "      <td>0.150575</td>\n",
       "    </tr>\n",
       "    <tr>\n",
       "      <th>year</th>\n",
       "      <td>-0.362986</td>\n",
       "      <td>0.345391</td>\n",
       "      <td>0.497379</td>\n",
       "      <td>0.400733</td>\n",
       "      <td>0.429200</td>\n",
       "      <td>0.515584</td>\n",
       "      <td>-0.073628</td>\n",
       "      <td>1.000000</td>\n",
       "      <td>-0.593365</td>\n",
       "      <td>0.000314</td>\n",
       "      <td>-0.036291</td>\n",
       "    </tr>\n",
       "    <tr>\n",
       "      <th>month</th>\n",
       "      <td>0.180766</td>\n",
       "      <td>-0.150315</td>\n",
       "      <td>0.038579</td>\n",
       "      <td>-0.081120</td>\n",
       "      <td>-0.045990</td>\n",
       "      <td>0.136474</td>\n",
       "      <td>0.236032</td>\n",
       "      <td>-0.593365</td>\n",
       "      <td>1.000000</td>\n",
       "      <td>-0.005850</td>\n",
       "      <td>0.028699</td>\n",
       "    </tr>\n",
       "    <tr>\n",
       "      <th>day_of_week</th>\n",
       "      <td>-0.507910</td>\n",
       "      <td>-0.278167</td>\n",
       "      <td>-0.107477</td>\n",
       "      <td>-0.009358</td>\n",
       "      <td>-0.006461</td>\n",
       "      <td>-0.130850</td>\n",
       "      <td>-0.172997</td>\n",
       "      <td>0.000314</td>\n",
       "      <td>-0.005850</td>\n",
       "      <td>1.000000</td>\n",
       "      <td>0.012353</td>\n",
       "    </tr>\n",
       "    <tr>\n",
       "      <th>day</th>\n",
       "      <td>0.073717</td>\n",
       "      <td>0.053767</td>\n",
       "      <td>0.088795</td>\n",
       "      <td>0.008475</td>\n",
       "      <td>-0.013582</td>\n",
       "      <td>-0.000307</td>\n",
       "      <td>0.150575</td>\n",
       "      <td>-0.036291</td>\n",
       "      <td>0.028699</td>\n",
       "      <td>0.012353</td>\n",
       "      <td>1.000000</td>\n",
       "    </tr>\n",
       "  </tbody>\n",
       "</table>\n",
       "</div>"
      ],
      "text/plain": [
       "                               revenue  google_search_spent  \\\n",
       "revenue                       1.000000             0.158135   \n",
       "google_search_spent           0.158135             1.000000   \n",
       "google_performance_max_spent -0.217984             0.253990   \n",
       "fb_retargeting_spent         -0.212061             0.336720   \n",
       "fb_prospecting_spent         -0.294907             0.387373   \n",
       "google_organico              -0.086580             0.221361   \n",
       "Sconti                        0.551863             0.113703   \n",
       "year                         -0.362986             0.345391   \n",
       "month                         0.180766            -0.150315   \n",
       "day_of_week                  -0.507910            -0.278167   \n",
       "day                           0.073717             0.053767   \n",
       "\n",
       "                              google_performance_max_spent  \\\n",
       "revenue                                          -0.217984   \n",
       "google_search_spent                               0.253990   \n",
       "google_performance_max_spent                      1.000000   \n",
       "fb_retargeting_spent                              0.245441   \n",
       "fb_prospecting_spent                              0.309073   \n",
       "google_organico                                   0.573396   \n",
       "Sconti                                            0.030912   \n",
       "year                                              0.497379   \n",
       "month                                             0.038579   \n",
       "day_of_week                                      -0.107477   \n",
       "day                                               0.088795   \n",
       "\n",
       "                              fb_retargeting_spent  fb_prospecting_spent  \\\n",
       "revenue                                  -0.212061             -0.294907   \n",
       "google_search_spent                       0.336720              0.387373   \n",
       "google_performance_max_spent              0.245441              0.309073   \n",
       "fb_retargeting_spent                      1.000000              0.870278   \n",
       "fb_prospecting_spent                      0.870278              1.000000   \n",
       "google_organico                           0.219663              0.148569   \n",
       "Sconti                                   -0.017276             -0.067479   \n",
       "year                                      0.400733              0.429200   \n",
       "month                                    -0.081120             -0.045990   \n",
       "day_of_week                              -0.009358             -0.006461   \n",
       "day                                       0.008475             -0.013582   \n",
       "\n",
       "                              google_organico    Sconti      year     month  \\\n",
       "revenue                             -0.086580  0.551863 -0.362986  0.180766   \n",
       "google_search_spent                  0.221361  0.113703  0.345391 -0.150315   \n",
       "google_performance_max_spent         0.573396  0.030912  0.497379  0.038579   \n",
       "fb_retargeting_spent                 0.219663 -0.017276  0.400733 -0.081120   \n",
       "fb_prospecting_spent                 0.148569 -0.067479  0.429200 -0.045990   \n",
       "google_organico                      1.000000  0.209871  0.515584  0.136474   \n",
       "Sconti                               0.209871  1.000000 -0.073628  0.236032   \n",
       "year                                 0.515584 -0.073628  1.000000 -0.593365   \n",
       "month                                0.136474  0.236032 -0.593365  1.000000   \n",
       "day_of_week                         -0.130850 -0.172997  0.000314 -0.005850   \n",
       "day                                 -0.000307  0.150575 -0.036291  0.028699   \n",
       "\n",
       "                              day_of_week       day  \n",
       "revenue                         -0.507910  0.073717  \n",
       "google_search_spent             -0.278167  0.053767  \n",
       "google_performance_max_spent    -0.107477  0.088795  \n",
       "fb_retargeting_spent            -0.009358  0.008475  \n",
       "fb_prospecting_spent            -0.006461 -0.013582  \n",
       "google_organico                 -0.130850 -0.000307  \n",
       "Sconti                          -0.172997  0.150575  \n",
       "year                             0.000314 -0.036291  \n",
       "month                           -0.005850  0.028699  \n",
       "day_of_week                      1.000000  0.012353  \n",
       "day                              0.012353  1.000000  "
      ]
     },
     "execution_count": 71,
     "metadata": {},
     "output_type": "execute_result"
    }
   ],
   "source": [
    "#checking correlatoin \n",
    "data.corr()\n",
    "#We can see some postive correlation for Sconti which refers to discounts"
   ]
  },
  {
   "cell_type": "code",
   "execution_count": 72,
   "id": "2a155dee",
   "metadata": {},
   "outputs": [
    {
     "data": {
      "application/vnd.plotly.v1+json": {
       "config": {
        "plotlyServerURL": "https://plot.ly"
       },
       "data": [
        {
         "hovertemplate": "revenue=%{x}<br>Sconti=%{y}<extra></extra>",
         "legendgroup": "",
         "marker": {
          "color": "#636efa",
          "symbol": "circle"
         },
         "mode": "markers",
         "name": "",
         "orientation": "v",
         "showlegend": false,
         "type": "scatter",
         "x": [
          1878.71,
          2057.76,
          1930.55,
          778.36,
          1753.69,
          3016.44,
          2365.55,
          2363.86,
          1803.16,
          1541.98,
          985.98,
          1370.96,
          2880.98,
          2802.35,
          10489.07,
          10457.8,
          7033.99,
          4031.24,
          5577.11,
          10846.59,
          9959.99,
          8641.53,
          8183.78,
          5944.73,
          4610.64,
          5487.97,
          11644.23,
          8885.58,
          9295.77,
          7747.64,
          5608.38,
          2988.2,
          5348.48,
          9807.08,
          8879.67,
          9147.71,
          7519.13,
          5808.55,
          3686.26,
          4375.03,
          8510.24,
          6988.96,
          5820.27,
          4786.96,
          3024.39,
          1572.99,
          3771.68,
          8281.35,
          7160.5,
          6525.85,
          5625.64,
          4037.93,
          2315.76,
          4565.93,
          9179.96,
          9094.92,
          7568.91,
          7940.92,
          4711.44,
          3211.93,
          5192.5,
          10326.51,
          10065.28,
          11419.54,
          6264.26,
          4118.59,
          6022.66,
          12442.85,
          10872.56,
          9547.32,
          8606.35,
          7079.17,
          3276.7,
          6853.6,
          11880.91,
          12677.61,
          11191.22,
          9132.14,
          4771.97,
          3926.7,
          7111.82,
          12735.91,
          11654.3,
          10851.92,
          8993.2,
          6215.4,
          3957.07,
          7067.48,
          12271.88,
          11847.3,
          9672.76,
          8872.55,
          7063.05,
          3964.66,
          7146.57,
          11264.39,
          10184.43,
          9735.78,
          9085.08,
          6377.34,
          3837.35,
          6681.52,
          11990.92,
          11088.09,
          10212.05,
          10377.92,
          5581.22,
          3897.77,
          6834.29,
          12824.65,
          11168.82,
          10434.2,
          9957.83,
          9749.85,
          4918.98,
          7336,
          14362.18,
          11618.53,
          11434.27,
          10223.31,
          7000.42,
          3675.85,
          7901.92,
          14870.65,
          12300.85,
          10180.9,
          12829.57,
          8460.75,
          4643.2,
          9240.43,
          11007.38,
          12151.04,
          11062.4,
          11995.24,
          8139.49,
          4754.07,
          9034.2,
          16381.56,
          14396.96,
          14348.52,
          12426.45,
          10914.51,
          6051.89,
          9146.3,
          17098.56,
          15286.43,
          12281.33,
          12458.98,
          9748.81,
          6997.51,
          10876.78,
          16580.34,
          15242.34,
          13750.37,
          12722.86,
          8428.44,
          7030.41,
          11370.74,
          13686.8,
          13336.71,
          20123.1,
          15777.54,
          11743.13,
          9880.15,
          15999.43,
          16000.37,
          13480.87,
          19722.02,
          13585.78,
          9018.82,
          7179,
          10360.26,
          27815.43,
          13697.02,
          6539.35,
          4027.13,
          1345.77,
          3244.46,
          6479.29,
          21459.86,
          14625.93,
          11539.21,
          7579.93,
          1570.62,
          3999.7,
          6611.15,
          10910.37,
          5884.69,
          5466,
          10801.13,
          6131.68,
          5810.96,
          8567.47,
          12182.16,
          10807.23,
          9715.2,
          8394.47,
          6102.56,
          3675.21,
          8370.53,
          12424.05,
          10614.22,
          10591.22,
          7773.48,
          6896.5,
          3638.73,
          7210.31,
          12841.71,
          11035.27,
          9257.14,
          8310.58,
          5242.23,
          3078.7,
          7000.02,
          10958.5,
          9515.14,
          8375.77,
          7375.2,
          5032.41,
          3348.6,
          5246.46,
          10680.19,
          10257.97,
          9782.81,
          7749.87,
          4958.66,
          2650.18,
          5317,
          8920.22,
          8313.24,
          8269.02,
          6995.35,
          5035.38,
          3640.27,
          5051.32,
          9413.98,
          9809.25,
          7694.96,
          7561.84,
          4864.11,
          2436.23,
          5270.82,
          10124.88,
          8839.89,
          8021.19,
          7834.87,
          5165.24,
          3279.65,
          6084.18,
          9544.51,
          175.26,
          32.8,
          5395.53,
          9390.58,
          8271.69,
          7141.71,
          4189.48,
          3349.58,
          5614.71,
          10497.97,
          8304.91,
          7319.71,
          7411.32,
          4993.64,
          3637.75,
          6448.24,
          10272.9,
          8996.32,
          7661.99,
          5229.36,
          3601.65,
          1308.64,
          950.99,
          4825.42,
          8799.39,
          7573.86,
          6539.41,
          4263.83,
          2521.85,
          4306.55,
          8534.21,
          7805.45,
          6675.57,
          20908.25,
          5911.01,
          4523.19,
          5798.83,
          9356.96,
          9777.11,
          8409.55,
          17250.29,
          3720.04,
          2553.41,
          3967.11,
          7278.68,
          7211.06,
          5993.81,
          5699.19,
          4787.37,
          1710.83,
          3683.87,
          8531.04,
          7677.34,
          6387.9,
          5311.42,
          3434.05,
          2227.26,
          2857.6,
          7931.79,
          8248.31,
          6358.54,
          5224.73,
          3791.62,
          2003.46,
          3880.62,
          7126.09,
          7800.73,
          6719.86,
          5035.2,
          3082.65,
          1631.54,
          2296.31,
          6635.84,
          6602.19,
          5260.06,
          5268.55,
          3797.2,
          1610.59,
          2489.93,
          8191.27,
          5594.59,
          3273.59,
          6769.56,
          5400.94,
          2143.09,
          3810.04,
          7127.07,
          5901.4,
          5496.93,
          4833.02,
          2736.77,
          1832.07,
          3108.91,
          6200.66,
          6358.25,
          5523.72,
          4075.17,
          3190.81,
          1607.29,
          3017.02,
          6583.68,
          5802.83,
          5474.51,
          3807.75,
          2892.49,
          1737.1,
          2385.43,
          19620.76,
          17274.83,
          5361.66,
          5643.68,
          3090.39,
          1874.72,
          2855.95,
          5862.57,
          5517.47,
          4944.32,
          4976.24,
          2791.55,
          1467.34,
          2056.06,
          6019.36,
          5450.72,
          5766.5,
          4547.46,
          2674.17,
          1388.92,
          2592.14,
          6557.72,
          5493.61,
          4960.18,
          4082.07,
          2827.71,
          2192.61,
          2415.48,
          6390.97,
          5805.67,
          5260.29,
          3945.85,
          3022.08,
          1860.57,
          2537.07,
          4990.65,
          5826.46,
          4086.3,
          4641.57,
          2591.65,
          1874.14,
          2004.56,
          4374.03,
          3652.06,
          3641.3,
          2261.37,
          1919.64,
          1283.62,
          1817.46,
          4153.7,
          3173.38,
          2868.55,
          3225.54,
          1660.32,
          1052.06,
          1955.72,
          5133.89,
          4609.91,
          3997.51,
          3730.38,
          2266.13,
          1728.95,
          2668.24,
          4974.19,
          4830.26,
          4754.74,
          4657.85,
          2886.1,
          1695.6,
          2869.94,
          6673.98,
          6554.67,
          5039.87,
          5182.24,
          3850.21,
          1637.39,
          2461.81,
          6918.33,
          5101.67,
          5335.02,
          4384.38,
          2564.39,
          1507.22,
          3035.38,
          6164.88,
          5666.57,
          5529.19,
          4364.27,
          3441.28,
          1503.72,
          3075.01,
          7223.64,
          6191.63,
          6401.52,
          6006.66,
          3259.89,
          2036.57,
          2537.66,
          5131.19,
          5867.37,
          5541.04,
          4897.76,
          3133.15,
          1820.66,
          2907.35,
          6008.83,
          5485.87,
          5291.73,
          4846.12,
          3644.88,
          1870.71,
          3446.23,
          6795.43,
          5735.92,
          5906.51,
          5183.68,
          3128.48,
          1754.73,
          3043.88,
          5978.04,
          6321.35,
          6043.38,
          4429.38,
          2202.1,
          1740.83,
          1502.6,
          3861.43,
          6534.55,
          5504.45,
          5211.69,
          4218.57,
          2450.73,
          3373.6,
          6543.42,
          6254.53,
          6275.99,
          4800.1,
          2938.72,
          1883.86,
          3064.84,
          5960.51,
          6200.39,
          6126.07,
          4558.39,
          2533.53,
          1489.06,
          3292.68,
          6994.01,
          5961.43,
          5353.82,
          17697.95,
          13613.81,
          2402.75,
          3436.36,
          6987.25,
          4960.64,
          5485.93,
          5306.16,
          5301.18,
          2587.16,
          4190.47,
          7525.98,
          6415.08,
          4915.72,
          7788.17,
          6990.86,
          3055.72,
          4843.64,
          10482.65,
          10581.56,
          9520.25,
          10487.03,
          7024.91,
          3420.89,
          5850.73,
          26047.24,
          20130.25,
          5793.67,
          3231.42,
          1450.1,
          731.38,
          2075.78,
          6543.32,
          7426.74,
          4921.18,
          6507.9,
          1699.36,
          1334.25,
          2450.69,
          5677.11,
          5337.76,
          3523.35,
          2951.59,
          3990.13,
          3120.34,
          3141.9,
          7159.45,
          6919.14,
          5980.13,
          5737.6,
          4374.84,
          2179.55,
          3599.79,
          7773.84,
          7728.56,
          7172.95,
          5583.26,
          3689.49,
          2148.72,
          2861.71,
          6677.14,
          6894.49,
          6107.54,
          6592.92,
          4045.78,
          5824.62,
          3219.01,
          8797.88,
          7117.38,
          5999.78,
          5045.91,
          4362.41,
          1849.98,
          3422.41,
          7877.16,
          6893.43,
          6278.3,
          6400.52,
          3921.14,
          2325.44,
          3174.37,
          7166.95,
          7475.88,
          5648.14,
          6061.37,
          3722.15,
          2670.47,
          3385.87,
          372.27
         ],
         "xaxis": "x",
         "y": [
          1,
          1,
          2,
          0,
          1,
          1,
          2,
          0,
          2,
          0,
          1,
          1,
          1,
          0,
          7,
          1,
          5,
          1,
          2,
          6,
          6,
          3,
          2,
          3,
          1,
          4,
          4,
          3,
          5,
          3,
          1,
          0,
          0,
          10,
          3,
          5,
          7,
          4,
          2,
          6,
          3,
          0,
          1,
          1,
          0,
          0,
          0,
          2,
          3,
          1,
          2,
          0,
          0,
          0,
          4,
          6,
          4,
          4,
          5,
          1,
          0,
          0,
          0,
          0,
          0,
          0,
          0,
          0,
          0,
          0,
          1,
          0,
          0,
          0,
          0,
          0,
          0,
          0,
          0,
          0,
          0,
          0,
          0,
          0,
          0,
          0,
          0,
          0,
          0,
          0,
          1,
          0,
          0,
          0,
          0,
          0,
          0,
          0,
          0,
          0,
          0,
          0,
          1,
          1,
          0,
          0,
          0,
          0,
          0,
          0,
          0,
          1,
          0,
          114,
          66,
          90,
          120,
          85,
          71,
          68,
          46,
          29,
          49,
          52,
          70,
          41,
          67,
          43,
          27,
          48,
          47,
          47,
          43,
          52,
          31,
          15,
          36,
          71,
          42,
          59,
          45,
          41,
          7,
          6,
          31,
          17,
          20,
          9,
          10,
          9,
          12,
          14,
          0,
          2,
          1,
          4,
          6,
          12,
          8,
          1,
          4,
          7,
          8,
          0,
          8,
          6,
          2,
          3,
          10,
          6,
          2,
          0,
          173,
          77,
          43,
          23,
          12,
          19,
          37,
          161,
          69,
          49,
          37,
          0,
          0,
          4,
          2,
          3,
          2,
          12,
          3,
          0,
          5,
          8,
          4,
          3,
          4,
          2,
          1,
          1,
          3,
          3,
          4,
          0,
          2,
          2,
          0,
          3,
          0,
          0,
          2,
          1,
          2,
          3,
          3,
          3,
          3,
          2,
          3,
          0,
          1,
          7,
          5,
          5,
          4,
          2,
          0,
          2,
          7,
          4,
          3,
          3,
          3,
          0,
          1,
          3,
          2,
          1,
          0,
          0,
          2,
          0,
          1,
          0,
          1,
          3,
          1,
          1,
          1,
          1,
          0,
          0,
          0,
          0,
          0,
          0,
          1,
          0,
          0,
          0,
          2,
          0,
          1,
          0,
          0,
          1,
          2,
          2,
          1,
          3,
          1,
          0,
          0,
          1,
          2,
          1,
          1,
          0,
          1,
          1,
          1,
          0,
          0,
          146,
          25,
          19,
          19,
          16,
          24,
          20,
          156,
          11,
          7,
          0,
          2,
          1,
          6,
          2,
          2,
          0,
          1,
          2,
          2,
          1,
          2,
          0,
          0,
          2,
          3,
          3,
          0,
          4,
          0,
          0,
          1,
          3,
          2,
          1,
          3,
          2,
          0,
          2,
          0,
          2,
          3,
          1,
          1,
          0,
          0,
          19,
          9,
          8,
          3,
          21,
          0,
          0,
          0,
          0,
          1,
          1,
          0,
          0,
          2,
          0,
          0,
          2,
          1,
          0,
          0,
          0,
          1,
          3,
          2,
          2,
          2,
          0,
          0,
          153,
          118,
          1,
          0,
          1,
          0,
          0,
          0,
          0,
          2,
          1,
          2,
          0,
          1,
          3,
          0,
          0,
          1,
          2,
          0,
          1,
          1,
          1,
          1,
          0,
          0,
          0,
          0,
          2,
          1,
          2,
          0,
          0,
          0,
          0,
          1,
          1,
          1,
          2,
          1,
          1,
          0,
          0,
          0,
          0,
          3,
          0,
          0,
          1,
          1,
          0,
          0,
          2,
          0,
          0,
          0,
          2,
          1,
          1,
          0,
          1,
          0,
          0,
          0,
          1,
          1,
          1,
          4,
          0,
          0,
          0,
          2,
          3,
          0,
          1,
          0,
          1,
          1,
          3,
          2,
          2,
          1,
          0,
          1,
          21,
          29,
          35,
          14,
          11,
          7,
          13,
          20,
          17,
          23,
          18,
          14,
          8,
          5,
          16,
          26,
          12,
          13,
          7,
          4,
          8,
          17,
          28,
          18,
          17,
          7,
          7,
          11,
          20,
          17,
          18,
          16,
          12,
          6,
          9,
          23,
          21,
          14,
          8,
          2,
          1,
          7,
          18,
          21,
          22,
          20,
          13,
          4,
          12,
          22,
          17,
          14,
          14,
          11,
          7,
          11,
          22,
          19,
          16,
          20,
          10,
          4,
          7,
          14,
          23,
          13,
          121,
          112,
          17,
          15,
          25,
          17,
          23,
          12,
          22,
          8,
          10,
          17,
          10,
          19,
          21,
          19,
          6,
          18,
          25,
          27,
          19,
          25,
          19,
          5,
          7,
          171,
          119,
          18,
          12,
          6,
          1,
          7,
          21,
          15,
          18,
          12,
          5,
          0,
          1,
          16,
          23,
          14,
          6,
          11,
          9,
          6,
          19,
          25,
          19,
          21,
          16,
          8,
          13,
          22,
          28,
          10,
          18,
          16,
          6,
          3,
          22,
          17,
          11,
          18,
          17,
          5,
          10,
          18,
          25,
          14,
          17,
          10,
          3,
          10,
          14,
          13,
          21,
          16,
          11,
          6,
          9,
          20,
          21,
          12,
          9,
          14,
          8,
          3,
          0
         ],
         "yaxis": "y"
        }
       ],
       "layout": {
        "legend": {
         "tracegroupgap": 0
        },
        "template": {
         "data": {
          "bar": [
           {
            "error_x": {
             "color": "#2a3f5f"
            },
            "error_y": {
             "color": "#2a3f5f"
            },
            "marker": {
             "line": {
              "color": "#E5ECF6",
              "width": 0.5
             },
             "pattern": {
              "fillmode": "overlay",
              "size": 10,
              "solidity": 0.2
             }
            },
            "type": "bar"
           }
          ],
          "barpolar": [
           {
            "marker": {
             "line": {
              "color": "#E5ECF6",
              "width": 0.5
             },
             "pattern": {
              "fillmode": "overlay",
              "size": 10,
              "solidity": 0.2
             }
            },
            "type": "barpolar"
           }
          ],
          "carpet": [
           {
            "aaxis": {
             "endlinecolor": "#2a3f5f",
             "gridcolor": "white",
             "linecolor": "white",
             "minorgridcolor": "white",
             "startlinecolor": "#2a3f5f"
            },
            "baxis": {
             "endlinecolor": "#2a3f5f",
             "gridcolor": "white",
             "linecolor": "white",
             "minorgridcolor": "white",
             "startlinecolor": "#2a3f5f"
            },
            "type": "carpet"
           }
          ],
          "choropleth": [
           {
            "colorbar": {
             "outlinewidth": 0,
             "ticks": ""
            },
            "type": "choropleth"
           }
          ],
          "contour": [
           {
            "colorbar": {
             "outlinewidth": 0,
             "ticks": ""
            },
            "colorscale": [
             [
              0,
              "#0d0887"
             ],
             [
              0.1111111111111111,
              "#46039f"
             ],
             [
              0.2222222222222222,
              "#7201a8"
             ],
             [
              0.3333333333333333,
              "#9c179e"
             ],
             [
              0.4444444444444444,
              "#bd3786"
             ],
             [
              0.5555555555555556,
              "#d8576b"
             ],
             [
              0.6666666666666666,
              "#ed7953"
             ],
             [
              0.7777777777777778,
              "#fb9f3a"
             ],
             [
              0.8888888888888888,
              "#fdca26"
             ],
             [
              1,
              "#f0f921"
             ]
            ],
            "type": "contour"
           }
          ],
          "contourcarpet": [
           {
            "colorbar": {
             "outlinewidth": 0,
             "ticks": ""
            },
            "type": "contourcarpet"
           }
          ],
          "heatmap": [
           {
            "colorbar": {
             "outlinewidth": 0,
             "ticks": ""
            },
            "colorscale": [
             [
              0,
              "#0d0887"
             ],
             [
              0.1111111111111111,
              "#46039f"
             ],
             [
              0.2222222222222222,
              "#7201a8"
             ],
             [
              0.3333333333333333,
              "#9c179e"
             ],
             [
              0.4444444444444444,
              "#bd3786"
             ],
             [
              0.5555555555555556,
              "#d8576b"
             ],
             [
              0.6666666666666666,
              "#ed7953"
             ],
             [
              0.7777777777777778,
              "#fb9f3a"
             ],
             [
              0.8888888888888888,
              "#fdca26"
             ],
             [
              1,
              "#f0f921"
             ]
            ],
            "type": "heatmap"
           }
          ],
          "heatmapgl": [
           {
            "colorbar": {
             "outlinewidth": 0,
             "ticks": ""
            },
            "colorscale": [
             [
              0,
              "#0d0887"
             ],
             [
              0.1111111111111111,
              "#46039f"
             ],
             [
              0.2222222222222222,
              "#7201a8"
             ],
             [
              0.3333333333333333,
              "#9c179e"
             ],
             [
              0.4444444444444444,
              "#bd3786"
             ],
             [
              0.5555555555555556,
              "#d8576b"
             ],
             [
              0.6666666666666666,
              "#ed7953"
             ],
             [
              0.7777777777777778,
              "#fb9f3a"
             ],
             [
              0.8888888888888888,
              "#fdca26"
             ],
             [
              1,
              "#f0f921"
             ]
            ],
            "type": "heatmapgl"
           }
          ],
          "histogram": [
           {
            "marker": {
             "pattern": {
              "fillmode": "overlay",
              "size": 10,
              "solidity": 0.2
             }
            },
            "type": "histogram"
           }
          ],
          "histogram2d": [
           {
            "colorbar": {
             "outlinewidth": 0,
             "ticks": ""
            },
            "colorscale": [
             [
              0,
              "#0d0887"
             ],
             [
              0.1111111111111111,
              "#46039f"
             ],
             [
              0.2222222222222222,
              "#7201a8"
             ],
             [
              0.3333333333333333,
              "#9c179e"
             ],
             [
              0.4444444444444444,
              "#bd3786"
             ],
             [
              0.5555555555555556,
              "#d8576b"
             ],
             [
              0.6666666666666666,
              "#ed7953"
             ],
             [
              0.7777777777777778,
              "#fb9f3a"
             ],
             [
              0.8888888888888888,
              "#fdca26"
             ],
             [
              1,
              "#f0f921"
             ]
            ],
            "type": "histogram2d"
           }
          ],
          "histogram2dcontour": [
           {
            "colorbar": {
             "outlinewidth": 0,
             "ticks": ""
            },
            "colorscale": [
             [
              0,
              "#0d0887"
             ],
             [
              0.1111111111111111,
              "#46039f"
             ],
             [
              0.2222222222222222,
              "#7201a8"
             ],
             [
              0.3333333333333333,
              "#9c179e"
             ],
             [
              0.4444444444444444,
              "#bd3786"
             ],
             [
              0.5555555555555556,
              "#d8576b"
             ],
             [
              0.6666666666666666,
              "#ed7953"
             ],
             [
              0.7777777777777778,
              "#fb9f3a"
             ],
             [
              0.8888888888888888,
              "#fdca26"
             ],
             [
              1,
              "#f0f921"
             ]
            ],
            "type": "histogram2dcontour"
           }
          ],
          "mesh3d": [
           {
            "colorbar": {
             "outlinewidth": 0,
             "ticks": ""
            },
            "type": "mesh3d"
           }
          ],
          "parcoords": [
           {
            "line": {
             "colorbar": {
              "outlinewidth": 0,
              "ticks": ""
             }
            },
            "type": "parcoords"
           }
          ],
          "pie": [
           {
            "automargin": true,
            "type": "pie"
           }
          ],
          "scatter": [
           {
            "fillpattern": {
             "fillmode": "overlay",
             "size": 10,
             "solidity": 0.2
            },
            "type": "scatter"
           }
          ],
          "scatter3d": [
           {
            "line": {
             "colorbar": {
              "outlinewidth": 0,
              "ticks": ""
             }
            },
            "marker": {
             "colorbar": {
              "outlinewidth": 0,
              "ticks": ""
             }
            },
            "type": "scatter3d"
           }
          ],
          "scattercarpet": [
           {
            "marker": {
             "colorbar": {
              "outlinewidth": 0,
              "ticks": ""
             }
            },
            "type": "scattercarpet"
           }
          ],
          "scattergeo": [
           {
            "marker": {
             "colorbar": {
              "outlinewidth": 0,
              "ticks": ""
             }
            },
            "type": "scattergeo"
           }
          ],
          "scattergl": [
           {
            "marker": {
             "colorbar": {
              "outlinewidth": 0,
              "ticks": ""
             }
            },
            "type": "scattergl"
           }
          ],
          "scattermapbox": [
           {
            "marker": {
             "colorbar": {
              "outlinewidth": 0,
              "ticks": ""
             }
            },
            "type": "scattermapbox"
           }
          ],
          "scatterpolar": [
           {
            "marker": {
             "colorbar": {
              "outlinewidth": 0,
              "ticks": ""
             }
            },
            "type": "scatterpolar"
           }
          ],
          "scatterpolargl": [
           {
            "marker": {
             "colorbar": {
              "outlinewidth": 0,
              "ticks": ""
             }
            },
            "type": "scatterpolargl"
           }
          ],
          "scatterternary": [
           {
            "marker": {
             "colorbar": {
              "outlinewidth": 0,
              "ticks": ""
             }
            },
            "type": "scatterternary"
           }
          ],
          "surface": [
           {
            "colorbar": {
             "outlinewidth": 0,
             "ticks": ""
            },
            "colorscale": [
             [
              0,
              "#0d0887"
             ],
             [
              0.1111111111111111,
              "#46039f"
             ],
             [
              0.2222222222222222,
              "#7201a8"
             ],
             [
              0.3333333333333333,
              "#9c179e"
             ],
             [
              0.4444444444444444,
              "#bd3786"
             ],
             [
              0.5555555555555556,
              "#d8576b"
             ],
             [
              0.6666666666666666,
              "#ed7953"
             ],
             [
              0.7777777777777778,
              "#fb9f3a"
             ],
             [
              0.8888888888888888,
              "#fdca26"
             ],
             [
              1,
              "#f0f921"
             ]
            ],
            "type": "surface"
           }
          ],
          "table": [
           {
            "cells": {
             "fill": {
              "color": "#EBF0F8"
             },
             "line": {
              "color": "white"
             }
            },
            "header": {
             "fill": {
              "color": "#C8D4E3"
             },
             "line": {
              "color": "white"
             }
            },
            "type": "table"
           }
          ]
         },
         "layout": {
          "annotationdefaults": {
           "arrowcolor": "#2a3f5f",
           "arrowhead": 0,
           "arrowwidth": 1
          },
          "autotypenumbers": "strict",
          "coloraxis": {
           "colorbar": {
            "outlinewidth": 0,
            "ticks": ""
           }
          },
          "colorscale": {
           "diverging": [
            [
             0,
             "#8e0152"
            ],
            [
             0.1,
             "#c51b7d"
            ],
            [
             0.2,
             "#de77ae"
            ],
            [
             0.3,
             "#f1b6da"
            ],
            [
             0.4,
             "#fde0ef"
            ],
            [
             0.5,
             "#f7f7f7"
            ],
            [
             0.6,
             "#e6f5d0"
            ],
            [
             0.7,
             "#b8e186"
            ],
            [
             0.8,
             "#7fbc41"
            ],
            [
             0.9,
             "#4d9221"
            ],
            [
             1,
             "#276419"
            ]
           ],
           "sequential": [
            [
             0,
             "#0d0887"
            ],
            [
             0.1111111111111111,
             "#46039f"
            ],
            [
             0.2222222222222222,
             "#7201a8"
            ],
            [
             0.3333333333333333,
             "#9c179e"
            ],
            [
             0.4444444444444444,
             "#bd3786"
            ],
            [
             0.5555555555555556,
             "#d8576b"
            ],
            [
             0.6666666666666666,
             "#ed7953"
            ],
            [
             0.7777777777777778,
             "#fb9f3a"
            ],
            [
             0.8888888888888888,
             "#fdca26"
            ],
            [
             1,
             "#f0f921"
            ]
           ],
           "sequentialminus": [
            [
             0,
             "#0d0887"
            ],
            [
             0.1111111111111111,
             "#46039f"
            ],
            [
             0.2222222222222222,
             "#7201a8"
            ],
            [
             0.3333333333333333,
             "#9c179e"
            ],
            [
             0.4444444444444444,
             "#bd3786"
            ],
            [
             0.5555555555555556,
             "#d8576b"
            ],
            [
             0.6666666666666666,
             "#ed7953"
            ],
            [
             0.7777777777777778,
             "#fb9f3a"
            ],
            [
             0.8888888888888888,
             "#fdca26"
            ],
            [
             1,
             "#f0f921"
            ]
           ]
          },
          "colorway": [
           "#636efa",
           "#EF553B",
           "#00cc96",
           "#ab63fa",
           "#FFA15A",
           "#19d3f3",
           "#FF6692",
           "#B6E880",
           "#FF97FF",
           "#FECB52"
          ],
          "font": {
           "color": "#2a3f5f"
          },
          "geo": {
           "bgcolor": "white",
           "lakecolor": "white",
           "landcolor": "#E5ECF6",
           "showlakes": true,
           "showland": true,
           "subunitcolor": "white"
          },
          "hoverlabel": {
           "align": "left"
          },
          "hovermode": "closest",
          "mapbox": {
           "style": "light"
          },
          "paper_bgcolor": "white",
          "plot_bgcolor": "#E5ECF6",
          "polar": {
           "angularaxis": {
            "gridcolor": "white",
            "linecolor": "white",
            "ticks": ""
           },
           "bgcolor": "#E5ECF6",
           "radialaxis": {
            "gridcolor": "white",
            "linecolor": "white",
            "ticks": ""
           }
          },
          "scene": {
           "xaxis": {
            "backgroundcolor": "#E5ECF6",
            "gridcolor": "white",
            "gridwidth": 2,
            "linecolor": "white",
            "showbackground": true,
            "ticks": "",
            "zerolinecolor": "white"
           },
           "yaxis": {
            "backgroundcolor": "#E5ECF6",
            "gridcolor": "white",
            "gridwidth": 2,
            "linecolor": "white",
            "showbackground": true,
            "ticks": "",
            "zerolinecolor": "white"
           },
           "zaxis": {
            "backgroundcolor": "#E5ECF6",
            "gridcolor": "white",
            "gridwidth": 2,
            "linecolor": "white",
            "showbackground": true,
            "ticks": "",
            "zerolinecolor": "white"
           }
          },
          "shapedefaults": {
           "line": {
            "color": "#2a3f5f"
           }
          },
          "ternary": {
           "aaxis": {
            "gridcolor": "white",
            "linecolor": "white",
            "ticks": ""
           },
           "baxis": {
            "gridcolor": "white",
            "linecolor": "white",
            "ticks": ""
           },
           "bgcolor": "#E5ECF6",
           "caxis": {
            "gridcolor": "white",
            "linecolor": "white",
            "ticks": ""
           }
          },
          "title": {
           "x": 0.05
          },
          "xaxis": {
           "automargin": true,
           "gridcolor": "white",
           "linecolor": "white",
           "ticks": "",
           "title": {
            "standoff": 15
           },
           "zerolinecolor": "white",
           "zerolinewidth": 2
          },
          "yaxis": {
           "automargin": true,
           "gridcolor": "white",
           "linecolor": "white",
           "ticks": "",
           "title": {
            "standoff": 15
           },
           "zerolinecolor": "white",
           "zerolinewidth": 2
          }
         }
        },
        "title": {
         "text": "Revenue vs Discounts"
        },
        "xaxis": {
         "anchor": "y",
         "domain": [
          0,
          1
         ],
         "title": {
          "text": "revenue"
         }
        },
        "yaxis": {
         "anchor": "x",
         "domain": [
          0,
          1
         ],
         "title": {
          "text": "Sconti"
         }
        }
       }
      },
      "text/html": [
       "<div>                            <div id=\"260de14c-40a7-4212-98b3-a2bce538328b\" class=\"plotly-graph-div\" style=\"height:525px; width:100%;\"></div>            <script type=\"text/javascript\">                require([\"plotly\"], function(Plotly) {                    window.PLOTLYENV=window.PLOTLYENV || {};                                    if (document.getElementById(\"260de14c-40a7-4212-98b3-a2bce538328b\")) {                    Plotly.newPlot(                        \"260de14c-40a7-4212-98b3-a2bce538328b\",                        [{\"hovertemplate\":\"revenue=%{x}<br>Sconti=%{y}<extra></extra>\",\"legendgroup\":\"\",\"marker\":{\"color\":\"#636efa\",\"symbol\":\"circle\"},\"mode\":\"markers\",\"name\":\"\",\"orientation\":\"v\",\"showlegend\":false,\"x\":[1878.71,2057.76,1930.55,778.36,1753.69,3016.44,2365.55,2363.86,1803.16,1541.98,985.98,1370.96,2880.98,2802.35,10489.07,10457.8,7033.99,4031.24,5577.11,10846.59,9959.99,8641.53,8183.78,5944.73,4610.64,5487.97,11644.23,8885.58,9295.77,7747.64,5608.38,2988.2,5348.48,9807.08,8879.67,9147.71,7519.13,5808.55,3686.26,4375.03,8510.24,6988.96,5820.27,4786.96,3024.39,1572.99,3771.68,8281.35,7160.5,6525.85,5625.64,4037.93,2315.76,4565.93,9179.96,9094.92,7568.91,7940.92,4711.44,3211.93,5192.5,10326.51,10065.28,11419.54,6264.26,4118.59,6022.66,12442.85,10872.56,9547.32,8606.35,7079.17,3276.7,6853.6,11880.91,12677.61,11191.22,9132.14,4771.97,3926.7,7111.82,12735.91,11654.3,10851.92,8993.2,6215.4,3957.07,7067.48,12271.88,11847.3,9672.76,8872.55,7063.05,3964.66,7146.57,11264.39,10184.43,9735.78,9085.08,6377.34,3837.35,6681.52,11990.92,11088.09,10212.05,10377.92,5581.22,3897.77,6834.29,12824.65,11168.82,10434.2,9957.83,9749.85,4918.98,7336.0,14362.18,11618.53,11434.27,10223.31,7000.42,3675.85,7901.92,14870.65,12300.85,10180.9,12829.57,8460.75,4643.2,9240.43,11007.38,12151.04,11062.4,11995.24,8139.49,4754.07,9034.2,16381.56,14396.96,14348.52,12426.45,10914.51,6051.89,9146.3,17098.56,15286.43,12281.33,12458.98,9748.81,6997.51,10876.78,16580.34,15242.34,13750.37,12722.86,8428.44,7030.41,11370.74,13686.8,13336.71,20123.1,15777.54,11743.13,9880.15,15999.43,16000.37,13480.87,19722.02,13585.78,9018.82,7179.0,10360.26,27815.43,13697.02,6539.35,4027.13,1345.77,3244.46,6479.29,21459.86,14625.93,11539.21,7579.93,1570.62,3999.7,6611.15,10910.37,5884.69,5466.0,10801.13,6131.68,5810.96,8567.47,12182.16,10807.23,9715.2,8394.47,6102.56,3675.21,8370.53,12424.05,10614.22,10591.22,7773.48,6896.5,3638.73,7210.31,12841.71,11035.27,9257.14,8310.58,5242.23,3078.7,7000.02,10958.5,9515.14,8375.77,7375.2,5032.41,3348.6,5246.46,10680.19,10257.97,9782.81,7749.87,4958.66,2650.18,5317.0,8920.22,8313.24,8269.02,6995.35,5035.38,3640.27,5051.32,9413.98,9809.25,7694.96,7561.84,4864.11,2436.23,5270.82,10124.88,8839.89,8021.19,7834.87,5165.24,3279.65,6084.18,9544.51,175.26,32.8,5395.53,9390.58,8271.69,7141.71,4189.48,3349.58,5614.71,10497.97,8304.91,7319.71,7411.32,4993.64,3637.75,6448.24,10272.9,8996.32,7661.99,5229.36,3601.65,1308.64,950.99,4825.42,8799.39,7573.86,6539.41,4263.83,2521.85,4306.55,8534.21,7805.45,6675.57,20908.25,5911.01,4523.19,5798.83,9356.96,9777.11,8409.55,17250.29,3720.04,2553.41,3967.11,7278.68,7211.06,5993.81,5699.19,4787.37,1710.83,3683.87,8531.04,7677.34,6387.9,5311.42,3434.05,2227.26,2857.6,7931.79,8248.31,6358.54,5224.73,3791.62,2003.46,3880.62,7126.09,7800.73,6719.86,5035.2,3082.65,1631.54,2296.31,6635.84,6602.19,5260.06,5268.55,3797.2,1610.59,2489.93,8191.27,5594.59,3273.59,6769.56,5400.94,2143.09,3810.04,7127.07,5901.4,5496.93,4833.02,2736.77,1832.07,3108.91,6200.66,6358.25,5523.72,4075.17,3190.81,1607.29,3017.02,6583.68,5802.83,5474.51,3807.75,2892.49,1737.1,2385.43,19620.76,17274.83,5361.66,5643.68,3090.39,1874.72,2855.95,5862.57,5517.47,4944.32,4976.24,2791.55,1467.34,2056.06,6019.36,5450.72,5766.5,4547.46,2674.17,1388.92,2592.14,6557.72,5493.61,4960.18,4082.07,2827.71,2192.61,2415.48,6390.97,5805.67,5260.29,3945.85,3022.08,1860.57,2537.07,4990.65,5826.46,4086.3,4641.57,2591.65,1874.14,2004.56,4374.03,3652.06,3641.3,2261.37,1919.64,1283.62,1817.46,4153.7,3173.38,2868.55,3225.54,1660.32,1052.06,1955.72,5133.89,4609.91,3997.51,3730.38,2266.13,1728.95,2668.24,4974.19,4830.26,4754.74,4657.85,2886.1,1695.6,2869.94,6673.98,6554.67,5039.87,5182.24,3850.21,1637.39,2461.81,6918.33,5101.67,5335.02,4384.38,2564.39,1507.22,3035.38,6164.88,5666.57,5529.19,4364.27,3441.28,1503.72,3075.01,7223.64,6191.63,6401.52,6006.66,3259.89,2036.57,2537.66,5131.19,5867.37,5541.04,4897.76,3133.15,1820.66,2907.35,6008.83,5485.87,5291.73,4846.12,3644.88,1870.71,3446.23,6795.43,5735.92,5906.51,5183.68,3128.48,1754.73,3043.88,5978.04,6321.35,6043.38,4429.38,2202.1,1740.83,1502.6,3861.43,6534.55,5504.45,5211.69,4218.57,2450.73,3373.6,6543.42,6254.53,6275.99,4800.1,2938.72,1883.86,3064.84,5960.51,6200.39,6126.07,4558.39,2533.53,1489.06,3292.68,6994.01,5961.43,5353.82,17697.95,13613.81,2402.75,3436.36,6987.25,4960.64,5485.93,5306.16,5301.18,2587.16,4190.47,7525.98,6415.08,4915.72,7788.17,6990.86,3055.72,4843.64,10482.65,10581.56,9520.25,10487.03,7024.91,3420.89,5850.73,26047.24,20130.25,5793.67,3231.42,1450.1,731.38,2075.78,6543.32,7426.74,4921.18,6507.9,1699.36,1334.25,2450.69,5677.11,5337.76,3523.35,2951.59,3990.13,3120.34,3141.9,7159.45,6919.14,5980.13,5737.6,4374.84,2179.55,3599.79,7773.84,7728.56,7172.95,5583.26,3689.49,2148.72,2861.71,6677.14,6894.49,6107.54,6592.92,4045.78,5824.62,3219.01,8797.88,7117.38,5999.78,5045.91,4362.41,1849.98,3422.41,7877.16,6893.43,6278.3,6400.52,3921.14,2325.44,3174.37,7166.95,7475.88,5648.14,6061.37,3722.15,2670.47,3385.87,372.27],\"xaxis\":\"x\",\"y\":[1,1,2,0,1,1,2,0,2,0,1,1,1,0,7,1,5,1,2,6,6,3,2,3,1,4,4,3,5,3,1,0,0,10,3,5,7,4,2,6,3,0,1,1,0,0,0,2,3,1,2,0,0,0,4,6,4,4,5,1,0,0,0,0,0,0,0,0,0,0,1,0,0,0,0,0,0,0,0,0,0,0,0,0,0,0,0,0,0,0,1,0,0,0,0,0,0,0,0,0,0,0,1,1,0,0,0,0,0,0,0,1,0,114,66,90,120,85,71,68,46,29,49,52,70,41,67,43,27,48,47,47,43,52,31,15,36,71,42,59,45,41,7,6,31,17,20,9,10,9,12,14,0,2,1,4,6,12,8,1,4,7,8,0,8,6,2,3,10,6,2,0,173,77,43,23,12,19,37,161,69,49,37,0,0,4,2,3,2,12,3,0,5,8,4,3,4,2,1,1,3,3,4,0,2,2,0,3,0,0,2,1,2,3,3,3,3,2,3,0,1,7,5,5,4,2,0,2,7,4,3,3,3,0,1,3,2,1,0,0,2,0,1,0,1,3,1,1,1,1,0,0,0,0,0,0,1,0,0,0,2,0,1,0,0,1,2,2,1,3,1,0,0,1,2,1,1,0,1,1,1,0,0,146,25,19,19,16,24,20,156,11,7,0,2,1,6,2,2,0,1,2,2,1,2,0,0,2,3,3,0,4,0,0,1,3,2,1,3,2,0,2,0,2,3,1,1,0,0,19,9,8,3,21,0,0,0,0,1,1,0,0,2,0,0,2,1,0,0,0,1,3,2,2,2,0,0,153,118,1,0,1,0,0,0,0,2,1,2,0,1,3,0,0,1,2,0,1,1,1,1,0,0,0,0,2,1,2,0,0,0,0,1,1,1,2,1,1,0,0,0,0,3,0,0,1,1,0,0,2,0,0,0,2,1,1,0,1,0,0,0,1,1,1,4,0,0,0,2,3,0,1,0,1,1,3,2,2,1,0,1,21,29,35,14,11,7,13,20,17,23,18,14,8,5,16,26,12,13,7,4,8,17,28,18,17,7,7,11,20,17,18,16,12,6,9,23,21,14,8,2,1,7,18,21,22,20,13,4,12,22,17,14,14,11,7,11,22,19,16,20,10,4,7,14,23,13,121,112,17,15,25,17,23,12,22,8,10,17,10,19,21,19,6,18,25,27,19,25,19,5,7,171,119,18,12,6,1,7,21,15,18,12,5,0,1,16,23,14,6,11,9,6,19,25,19,21,16,8,13,22,28,10,18,16,6,3,22,17,11,18,17,5,10,18,25,14,17,10,3,10,14,13,21,16,11,6,9,20,21,12,9,14,8,3,0],\"yaxis\":\"y\",\"type\":\"scatter\"}],                        {\"template\":{\"data\":{\"histogram2dcontour\":[{\"type\":\"histogram2dcontour\",\"colorbar\":{\"outlinewidth\":0,\"ticks\":\"\"},\"colorscale\":[[0.0,\"#0d0887\"],[0.1111111111111111,\"#46039f\"],[0.2222222222222222,\"#7201a8\"],[0.3333333333333333,\"#9c179e\"],[0.4444444444444444,\"#bd3786\"],[0.5555555555555556,\"#d8576b\"],[0.6666666666666666,\"#ed7953\"],[0.7777777777777778,\"#fb9f3a\"],[0.8888888888888888,\"#fdca26\"],[1.0,\"#f0f921\"]]}],\"choropleth\":[{\"type\":\"choropleth\",\"colorbar\":{\"outlinewidth\":0,\"ticks\":\"\"}}],\"histogram2d\":[{\"type\":\"histogram2d\",\"colorbar\":{\"outlinewidth\":0,\"ticks\":\"\"},\"colorscale\":[[0.0,\"#0d0887\"],[0.1111111111111111,\"#46039f\"],[0.2222222222222222,\"#7201a8\"],[0.3333333333333333,\"#9c179e\"],[0.4444444444444444,\"#bd3786\"],[0.5555555555555556,\"#d8576b\"],[0.6666666666666666,\"#ed7953\"],[0.7777777777777778,\"#fb9f3a\"],[0.8888888888888888,\"#fdca26\"],[1.0,\"#f0f921\"]]}],\"heatmap\":[{\"type\":\"heatmap\",\"colorbar\":{\"outlinewidth\":0,\"ticks\":\"\"},\"colorscale\":[[0.0,\"#0d0887\"],[0.1111111111111111,\"#46039f\"],[0.2222222222222222,\"#7201a8\"],[0.3333333333333333,\"#9c179e\"],[0.4444444444444444,\"#bd3786\"],[0.5555555555555556,\"#d8576b\"],[0.6666666666666666,\"#ed7953\"],[0.7777777777777778,\"#fb9f3a\"],[0.8888888888888888,\"#fdca26\"],[1.0,\"#f0f921\"]]}],\"heatmapgl\":[{\"type\":\"heatmapgl\",\"colorbar\":{\"outlinewidth\":0,\"ticks\":\"\"},\"colorscale\":[[0.0,\"#0d0887\"],[0.1111111111111111,\"#46039f\"],[0.2222222222222222,\"#7201a8\"],[0.3333333333333333,\"#9c179e\"],[0.4444444444444444,\"#bd3786\"],[0.5555555555555556,\"#d8576b\"],[0.6666666666666666,\"#ed7953\"],[0.7777777777777778,\"#fb9f3a\"],[0.8888888888888888,\"#fdca26\"],[1.0,\"#f0f921\"]]}],\"contourcarpet\":[{\"type\":\"contourcarpet\",\"colorbar\":{\"outlinewidth\":0,\"ticks\":\"\"}}],\"contour\":[{\"type\":\"contour\",\"colorbar\":{\"outlinewidth\":0,\"ticks\":\"\"},\"colorscale\":[[0.0,\"#0d0887\"],[0.1111111111111111,\"#46039f\"],[0.2222222222222222,\"#7201a8\"],[0.3333333333333333,\"#9c179e\"],[0.4444444444444444,\"#bd3786\"],[0.5555555555555556,\"#d8576b\"],[0.6666666666666666,\"#ed7953\"],[0.7777777777777778,\"#fb9f3a\"],[0.8888888888888888,\"#fdca26\"],[1.0,\"#f0f921\"]]}],\"surface\":[{\"type\":\"surface\",\"colorbar\":{\"outlinewidth\":0,\"ticks\":\"\"},\"colorscale\":[[0.0,\"#0d0887\"],[0.1111111111111111,\"#46039f\"],[0.2222222222222222,\"#7201a8\"],[0.3333333333333333,\"#9c179e\"],[0.4444444444444444,\"#bd3786\"],[0.5555555555555556,\"#d8576b\"],[0.6666666666666666,\"#ed7953\"],[0.7777777777777778,\"#fb9f3a\"],[0.8888888888888888,\"#fdca26\"],[1.0,\"#f0f921\"]]}],\"mesh3d\":[{\"type\":\"mesh3d\",\"colorbar\":{\"outlinewidth\":0,\"ticks\":\"\"}}],\"scatter\":[{\"fillpattern\":{\"fillmode\":\"overlay\",\"size\":10,\"solidity\":0.2},\"type\":\"scatter\"}],\"parcoords\":[{\"type\":\"parcoords\",\"line\":{\"colorbar\":{\"outlinewidth\":0,\"ticks\":\"\"}}}],\"scatterpolargl\":[{\"type\":\"scatterpolargl\",\"marker\":{\"colorbar\":{\"outlinewidth\":0,\"ticks\":\"\"}}}],\"bar\":[{\"error_x\":{\"color\":\"#2a3f5f\"},\"error_y\":{\"color\":\"#2a3f5f\"},\"marker\":{\"line\":{\"color\":\"#E5ECF6\",\"width\":0.5},\"pattern\":{\"fillmode\":\"overlay\",\"size\":10,\"solidity\":0.2}},\"type\":\"bar\"}],\"scattergeo\":[{\"type\":\"scattergeo\",\"marker\":{\"colorbar\":{\"outlinewidth\":0,\"ticks\":\"\"}}}],\"scatterpolar\":[{\"type\":\"scatterpolar\",\"marker\":{\"colorbar\":{\"outlinewidth\":0,\"ticks\":\"\"}}}],\"histogram\":[{\"marker\":{\"pattern\":{\"fillmode\":\"overlay\",\"size\":10,\"solidity\":0.2}},\"type\":\"histogram\"}],\"scattergl\":[{\"type\":\"scattergl\",\"marker\":{\"colorbar\":{\"outlinewidth\":0,\"ticks\":\"\"}}}],\"scatter3d\":[{\"type\":\"scatter3d\",\"line\":{\"colorbar\":{\"outlinewidth\":0,\"ticks\":\"\"}},\"marker\":{\"colorbar\":{\"outlinewidth\":0,\"ticks\":\"\"}}}],\"scattermapbox\":[{\"type\":\"scattermapbox\",\"marker\":{\"colorbar\":{\"outlinewidth\":0,\"ticks\":\"\"}}}],\"scatterternary\":[{\"type\":\"scatterternary\",\"marker\":{\"colorbar\":{\"outlinewidth\":0,\"ticks\":\"\"}}}],\"scattercarpet\":[{\"type\":\"scattercarpet\",\"marker\":{\"colorbar\":{\"outlinewidth\":0,\"ticks\":\"\"}}}],\"carpet\":[{\"aaxis\":{\"endlinecolor\":\"#2a3f5f\",\"gridcolor\":\"white\",\"linecolor\":\"white\",\"minorgridcolor\":\"white\",\"startlinecolor\":\"#2a3f5f\"},\"baxis\":{\"endlinecolor\":\"#2a3f5f\",\"gridcolor\":\"white\",\"linecolor\":\"white\",\"minorgridcolor\":\"white\",\"startlinecolor\":\"#2a3f5f\"},\"type\":\"carpet\"}],\"table\":[{\"cells\":{\"fill\":{\"color\":\"#EBF0F8\"},\"line\":{\"color\":\"white\"}},\"header\":{\"fill\":{\"color\":\"#C8D4E3\"},\"line\":{\"color\":\"white\"}},\"type\":\"table\"}],\"barpolar\":[{\"marker\":{\"line\":{\"color\":\"#E5ECF6\",\"width\":0.5},\"pattern\":{\"fillmode\":\"overlay\",\"size\":10,\"solidity\":0.2}},\"type\":\"barpolar\"}],\"pie\":[{\"automargin\":true,\"type\":\"pie\"}]},\"layout\":{\"autotypenumbers\":\"strict\",\"colorway\":[\"#636efa\",\"#EF553B\",\"#00cc96\",\"#ab63fa\",\"#FFA15A\",\"#19d3f3\",\"#FF6692\",\"#B6E880\",\"#FF97FF\",\"#FECB52\"],\"font\":{\"color\":\"#2a3f5f\"},\"hovermode\":\"closest\",\"hoverlabel\":{\"align\":\"left\"},\"paper_bgcolor\":\"white\",\"plot_bgcolor\":\"#E5ECF6\",\"polar\":{\"bgcolor\":\"#E5ECF6\",\"angularaxis\":{\"gridcolor\":\"white\",\"linecolor\":\"white\",\"ticks\":\"\"},\"radialaxis\":{\"gridcolor\":\"white\",\"linecolor\":\"white\",\"ticks\":\"\"}},\"ternary\":{\"bgcolor\":\"#E5ECF6\",\"aaxis\":{\"gridcolor\":\"white\",\"linecolor\":\"white\",\"ticks\":\"\"},\"baxis\":{\"gridcolor\":\"white\",\"linecolor\":\"white\",\"ticks\":\"\"},\"caxis\":{\"gridcolor\":\"white\",\"linecolor\":\"white\",\"ticks\":\"\"}},\"coloraxis\":{\"colorbar\":{\"outlinewidth\":0,\"ticks\":\"\"}},\"colorscale\":{\"sequential\":[[0.0,\"#0d0887\"],[0.1111111111111111,\"#46039f\"],[0.2222222222222222,\"#7201a8\"],[0.3333333333333333,\"#9c179e\"],[0.4444444444444444,\"#bd3786\"],[0.5555555555555556,\"#d8576b\"],[0.6666666666666666,\"#ed7953\"],[0.7777777777777778,\"#fb9f3a\"],[0.8888888888888888,\"#fdca26\"],[1.0,\"#f0f921\"]],\"sequentialminus\":[[0.0,\"#0d0887\"],[0.1111111111111111,\"#46039f\"],[0.2222222222222222,\"#7201a8\"],[0.3333333333333333,\"#9c179e\"],[0.4444444444444444,\"#bd3786\"],[0.5555555555555556,\"#d8576b\"],[0.6666666666666666,\"#ed7953\"],[0.7777777777777778,\"#fb9f3a\"],[0.8888888888888888,\"#fdca26\"],[1.0,\"#f0f921\"]],\"diverging\":[[0,\"#8e0152\"],[0.1,\"#c51b7d\"],[0.2,\"#de77ae\"],[0.3,\"#f1b6da\"],[0.4,\"#fde0ef\"],[0.5,\"#f7f7f7\"],[0.6,\"#e6f5d0\"],[0.7,\"#b8e186\"],[0.8,\"#7fbc41\"],[0.9,\"#4d9221\"],[1,\"#276419\"]]},\"xaxis\":{\"gridcolor\":\"white\",\"linecolor\":\"white\",\"ticks\":\"\",\"title\":{\"standoff\":15},\"zerolinecolor\":\"white\",\"automargin\":true,\"zerolinewidth\":2},\"yaxis\":{\"gridcolor\":\"white\",\"linecolor\":\"white\",\"ticks\":\"\",\"title\":{\"standoff\":15},\"zerolinecolor\":\"white\",\"automargin\":true,\"zerolinewidth\":2},\"scene\":{\"xaxis\":{\"backgroundcolor\":\"#E5ECF6\",\"gridcolor\":\"white\",\"linecolor\":\"white\",\"showbackground\":true,\"ticks\":\"\",\"zerolinecolor\":\"white\",\"gridwidth\":2},\"yaxis\":{\"backgroundcolor\":\"#E5ECF6\",\"gridcolor\":\"white\",\"linecolor\":\"white\",\"showbackground\":true,\"ticks\":\"\",\"zerolinecolor\":\"white\",\"gridwidth\":2},\"zaxis\":{\"backgroundcolor\":\"#E5ECF6\",\"gridcolor\":\"white\",\"linecolor\":\"white\",\"showbackground\":true,\"ticks\":\"\",\"zerolinecolor\":\"white\",\"gridwidth\":2}},\"shapedefaults\":{\"line\":{\"color\":\"#2a3f5f\"}},\"annotationdefaults\":{\"arrowcolor\":\"#2a3f5f\",\"arrowhead\":0,\"arrowwidth\":1},\"geo\":{\"bgcolor\":\"white\",\"landcolor\":\"#E5ECF6\",\"subunitcolor\":\"white\",\"showland\":true,\"showlakes\":true,\"lakecolor\":\"white\"},\"title\":{\"x\":0.05},\"mapbox\":{\"style\":\"light\"}}},\"xaxis\":{\"anchor\":\"y\",\"domain\":[0.0,1.0],\"title\":{\"text\":\"revenue\"}},\"yaxis\":{\"anchor\":\"x\",\"domain\":[0.0,1.0],\"title\":{\"text\":\"Sconti\"}},\"legend\":{\"tracegroupgap\":0},\"title\":{\"text\":\"Revenue vs Discounts\"}},                        {\"responsive\": true}                    ).then(function(){\n",
       "                            \n",
       "var gd = document.getElementById('260de14c-40a7-4212-98b3-a2bce538328b');\n",
       "var x = new MutationObserver(function (mutations, observer) {{\n",
       "        var display = window.getComputedStyle(gd).display;\n",
       "        if (!display || display === 'none') {{\n",
       "            console.log([gd, 'removed!']);\n",
       "            Plotly.purge(gd);\n",
       "            observer.disconnect();\n",
       "        }}\n",
       "}});\n",
       "\n",
       "// Listen for the removal of the full notebook cells\n",
       "var notebookContainer = gd.closest('#notebook-container');\n",
       "if (notebookContainer) {{\n",
       "    x.observe(notebookContainer, {childList: true});\n",
       "}}\n",
       "\n",
       "// Listen for the clearing of the current output cell\n",
       "var outputEl = gd.closest('.output');\n",
       "if (outputEl) {{\n",
       "    x.observe(outputEl, {childList: true});\n",
       "}}\n",
       "\n",
       "                        })                };                });            </script>        </div>"
      ]
     },
     "metadata": {},
     "output_type": "display_data"
    }
   ],
   "source": [
    "fig1 = px.scatter(data, x= 'revenue', y = 'Sconti', title = 'Revenue vs Discounts')\n",
    "fig1.show()"
   ]
  },
  {
   "cell_type": "code",
   "execution_count": 73,
   "id": "541a46af",
   "metadata": {},
   "outputs": [],
   "source": [
    "#split the dataset into train and test\n",
    "from sklearn.model_selection import train_test_split\n",
    "train, test = train_test_split(data, test_size = 0.3, shuffle = False)"
   ]
  },
  {
   "cell_type": "code",
   "execution_count": 74,
   "id": "5c720b88",
   "metadata": {
    "scrolled": false
   },
   "outputs": [
    {
     "name": "stdout",
     "output_type": "stream",
     "text": [
      "                            OLS Regression Results                            \n",
      "==============================================================================\n",
      "Dep. Variable:                revenue   R-squared:                       0.633\n",
      "Model:                            OLS   Adj. R-squared:                  0.625\n",
      "Method:                 Least Squares   F-statistic:                     78.05\n",
      "Date:                Fri, 08 Sep 2023   Prob (F-statistic):           5.17e-83\n",
      "Time:                        02:06:28   Log-Likelihood:                -3843.1\n",
      "No. Observations:                 417   AIC:                             7706.\n",
      "Df Residuals:                     407   BIC:                             7746.\n",
      "Df Model:                           9                                         \n",
      "Covariance Type:            nonrobust                                         \n",
      "================================================================================================\n",
      "                                   coef    std err          t      P>|t|      [0.025      0.975]\n",
      "------------------------------------------------------------------------------------------------\n",
      "const                         1.438e+06   1.28e+06      1.124      0.262   -1.08e+06    3.95e+06\n",
      "google_search_spent              5.0463      1.055      4.784      0.000       2.973       7.120\n",
      "google_performance_max_spent   -22.2539      6.991     -3.183      0.002     -35.997      -8.511\n",
      "fb_retargeting_spent            25.0083     14.673      1.704      0.089      -3.836      53.853\n",
      "fb_prospecting_spent           -48.6926     10.429     -4.669      0.000     -69.195     -28.190\n",
      "google_organico              -1.781e-05   1.58e-05     -1.124      0.262    -4.9e-05    1.33e-05\n",
      "Sconti                          61.0026      5.557     10.977      0.000      50.078      71.927\n",
      "year                          -707.7195    633.085     -1.118      0.264   -1952.245     536.806\n",
      "month                          168.2598     84.367      1.994      0.047       2.410     334.110\n",
      "day_of_week                   -879.4824     63.079    -13.943      0.000   -1003.484    -755.481\n",
      "day                              9.1262     14.214      0.642      0.521     -18.817      37.069\n",
      "==============================================================================\n",
      "Omnibus:                       19.278   Durbin-Watson:                   0.745\n",
      "Prob(Omnibus):                  0.000   Jarque-Bera (JB):               49.612\n",
      "Skew:                           0.090   Prob(JB):                     1.69e-11\n",
      "Kurtosis:                       4.680   Cond. No.                     2.85e+18\n",
      "==============================================================================\n",
      "\n",
      "Notes:\n",
      "[1] Standard Errors assume that the covariance matrix of the errors is correctly specified.\n",
      "[2] The smallest eigenvalue is 2.12e-28. This might indicate that there are\n",
      "strong multicollinearity problems or that the design matrix is singular.\n"
     ]
    }
   ],
   "source": [
    "#Performing OLS\n",
    "inputs = list(data.columns)\n",
    "inputs = inputs[2:]\n",
    "\n",
    "X= train[inputs]\n",
    "y= train['revenue']\n",
    "X = sm.add_constant(X)\n",
    "\n",
    "result = sm.OLS(y, X).fit()\n",
    " \n",
    "# printing the summary table\n",
    "print(result.summary())"
   ]
  },
  {
   "cell_type": "markdown",
   "id": "ddc896ad",
   "metadata": {},
   "source": [
    "#### The OLS regression model has an R^2 of 0.633, indicating that it accounts for 63.3% of the variability in the 'revenue'. Several predictors such as 'google_search_spent', 'google_performance_max_spent', and 'day_of_week' have statistically significant coefficients based on their p-values. The model suggests potential multicollinearity issues, given the large condition number (Cond. No. )."
   ]
  },
  {
   "cell_type": "markdown",
   "id": "e9c077ae",
   "metadata": {},
   "source": [
    "#### Lets plot a graph comparing actual revenue and predicted revenue using the model"
   ]
  },
  {
   "cell_type": "code",
   "execution_count": 75,
   "id": "664e60c4",
   "metadata": {},
   "outputs": [
    {
     "data": {
      "text/html": [
       "<div>\n",
       "<style scoped>\n",
       "    .dataframe tbody tr th:only-of-type {\n",
       "        vertical-align: middle;\n",
       "    }\n",
       "\n",
       "    .dataframe tbody tr th {\n",
       "        vertical-align: top;\n",
       "    }\n",
       "\n",
       "    .dataframe thead th {\n",
       "        text-align: right;\n",
       "    }\n",
       "</style>\n",
       "<table border=\"1\" class=\"dataframe\">\n",
       "  <thead>\n",
       "    <tr style=\"text-align: right;\">\n",
       "      <th></th>\n",
       "      <th>ordine_data</th>\n",
       "      <th>revenue</th>\n",
       "      <th>google_search_spent</th>\n",
       "      <th>google_performance_max_spent</th>\n",
       "      <th>fb_retargeting_spent</th>\n",
       "      <th>fb_prospecting_spent</th>\n",
       "      <th>google_organico</th>\n",
       "      <th>Sconti</th>\n",
       "      <th>year</th>\n",
       "      <th>month</th>\n",
       "      <th>day_of_week</th>\n",
       "      <th>day</th>\n",
       "      <th>Y_pred</th>\n",
       "    </tr>\n",
       "  </thead>\n",
       "  <tbody>\n",
       "    <tr>\n",
       "      <th>417</th>\n",
       "      <td>2021-08-27</td>\n",
       "      <td>2266.13</td>\n",
       "      <td>136.72</td>\n",
       "      <td>50.93</td>\n",
       "      <td>0.00</td>\n",
       "      <td>0.00</td>\n",
       "      <td>0</td>\n",
       "      <td>1</td>\n",
       "      <td>2021</td>\n",
       "      <td>8</td>\n",
       "      <td>4</td>\n",
       "      <td>27</td>\n",
       "      <td>4979.836716</td>\n",
       "    </tr>\n",
       "    <tr>\n",
       "      <th>418</th>\n",
       "      <td>2021-08-28</td>\n",
       "      <td>1728.95</td>\n",
       "      <td>102.06</td>\n",
       "      <td>24.43</td>\n",
       "      <td>0.00</td>\n",
       "      <td>0.00</td>\n",
       "      <td>0</td>\n",
       "      <td>0</td>\n",
       "      <td>2021</td>\n",
       "      <td>8</td>\n",
       "      <td>5</td>\n",
       "      <td>28</td>\n",
       "      <td>4463.300205</td>\n",
       "    </tr>\n",
       "    <tr>\n",
       "      <th>419</th>\n",
       "      <td>2021-08-29</td>\n",
       "      <td>2668.24</td>\n",
       "      <td>96.99</td>\n",
       "      <td>55.79</td>\n",
       "      <td>0.00</td>\n",
       "      <td>0.00</td>\n",
       "      <td>0</td>\n",
       "      <td>0</td>\n",
       "      <td>2021</td>\n",
       "      <td>8</td>\n",
       "      <td>6</td>\n",
       "      <td>29</td>\n",
       "      <td>2869.476618</td>\n",
       "    </tr>\n",
       "    <tr>\n",
       "      <th>420</th>\n",
       "      <td>2021-08-30</td>\n",
       "      <td>4974.19</td>\n",
       "      <td>172.51</td>\n",
       "      <td>55.46</td>\n",
       "      <td>4.13</td>\n",
       "      <td>34.35</td>\n",
       "      <td>0</td>\n",
       "      <td>0</td>\n",
       "      <td>2021</td>\n",
       "      <td>8</td>\n",
       "      <td>0</td>\n",
       "      <td>30</td>\n",
       "      <td>6974.632608</td>\n",
       "    </tr>\n",
       "    <tr>\n",
       "      <th>421</th>\n",
       "      <td>2021-08-31</td>\n",
       "      <td>4830.26</td>\n",
       "      <td>139.51</td>\n",
       "      <td>29.45</td>\n",
       "      <td>1.73</td>\n",
       "      <td>34.65</td>\n",
       "      <td>0</td>\n",
       "      <td>1</td>\n",
       "      <td>2021</td>\n",
       "      <td>8</td>\n",
       "      <td>1</td>\n",
       "      <td>31</td>\n",
       "      <td>6502.946193</td>\n",
       "    </tr>\n",
       "    <tr>\n",
       "      <th>...</th>\n",
       "      <td>...</td>\n",
       "      <td>...</td>\n",
       "      <td>...</td>\n",
       "      <td>...</td>\n",
       "      <td>...</td>\n",
       "      <td>...</td>\n",
       "      <td>...</td>\n",
       "      <td>...</td>\n",
       "      <td>...</td>\n",
       "      <td>...</td>\n",
       "      <td>...</td>\n",
       "      <td>...</td>\n",
       "      <td>...</td>\n",
       "    </tr>\n",
       "    <tr>\n",
       "      <th>591</th>\n",
       "      <td>2022-02-17</td>\n",
       "      <td>6061.37</td>\n",
       "      <td>347.75</td>\n",
       "      <td>125.32</td>\n",
       "      <td>19.96</td>\n",
       "      <td>30.44</td>\n",
       "      <td>5003</td>\n",
       "      <td>9</td>\n",
       "      <td>2022</td>\n",
       "      <td>2</td>\n",
       "      <td>3</td>\n",
       "      <td>17</td>\n",
       "      <td>2965.133748</td>\n",
       "    </tr>\n",
       "    <tr>\n",
       "      <th>592</th>\n",
       "      <td>2022-02-18</td>\n",
       "      <td>3722.15</td>\n",
       "      <td>258.10</td>\n",
       "      <td>79.30</td>\n",
       "      <td>20.31</td>\n",
       "      <td>31.06</td>\n",
       "      <td>4696</td>\n",
       "      <td>14</td>\n",
       "      <td>2022</td>\n",
       "      <td>2</td>\n",
       "      <td>4</td>\n",
       "      <td>18</td>\n",
       "      <td>2950.079909</td>\n",
       "    </tr>\n",
       "    <tr>\n",
       "      <th>593</th>\n",
       "      <td>2022-02-19</td>\n",
       "      <td>2670.47</td>\n",
       "      <td>92.04</td>\n",
       "      <td>9.96</td>\n",
       "      <td>23.16</td>\n",
       "      <td>33.75</td>\n",
       "      <td>3058</td>\n",
       "      <td>8</td>\n",
       "      <td>2022</td>\n",
       "      <td>2</td>\n",
       "      <td>5</td>\n",
       "      <td>19</td>\n",
       "      <td>2359.118024</td>\n",
       "    </tr>\n",
       "    <tr>\n",
       "      <th>594</th>\n",
       "      <td>2022-02-20</td>\n",
       "      <td>3385.87</td>\n",
       "      <td>86.37</td>\n",
       "      <td>40.50</td>\n",
       "      <td>19.90</td>\n",
       "      <td>30.59</td>\n",
       "      <td>1398</td>\n",
       "      <td>3</td>\n",
       "      <td>2022</td>\n",
       "      <td>2</td>\n",
       "      <td>6</td>\n",
       "      <td>20</td>\n",
       "      <td>547.872963</td>\n",
       "    </tr>\n",
       "    <tr>\n",
       "      <th>595</th>\n",
       "      <td>2022-02-21</td>\n",
       "      <td>372.27</td>\n",
       "      <td>42.17</td>\n",
       "      <td>22.04</td>\n",
       "      <td>1.33</td>\n",
       "      <td>2.13</td>\n",
       "      <td>0</td>\n",
       "      <td>0</td>\n",
       "      <td>2022</td>\n",
       "      <td>2</td>\n",
       "      <td>0</td>\n",
       "      <td>21</td>\n",
       "      <td>6760.057579</td>\n",
       "    </tr>\n",
       "  </tbody>\n",
       "</table>\n",
       "<p>179 rows × 13 columns</p>\n",
       "</div>"
      ],
      "text/plain": [
       "    ordine_data  revenue  google_search_spent  google_performance_max_spent  \\\n",
       "417  2021-08-27  2266.13               136.72                         50.93   \n",
       "418  2021-08-28  1728.95               102.06                         24.43   \n",
       "419  2021-08-29  2668.24                96.99                         55.79   \n",
       "420  2021-08-30  4974.19               172.51                         55.46   \n",
       "421  2021-08-31  4830.26               139.51                         29.45   \n",
       "..          ...      ...                  ...                           ...   \n",
       "591  2022-02-17  6061.37               347.75                        125.32   \n",
       "592  2022-02-18  3722.15               258.10                         79.30   \n",
       "593  2022-02-19  2670.47                92.04                          9.96   \n",
       "594  2022-02-20  3385.87                86.37                         40.50   \n",
       "595  2022-02-21   372.27                42.17                         22.04   \n",
       "\n",
       "     fb_retargeting_spent  fb_prospecting_spent  google_organico  Sconti  \\\n",
       "417                  0.00                  0.00                0       1   \n",
       "418                  0.00                  0.00                0       0   \n",
       "419                  0.00                  0.00                0       0   \n",
       "420                  4.13                 34.35                0       0   \n",
       "421                  1.73                 34.65                0       1   \n",
       "..                    ...                   ...              ...     ...   \n",
       "591                 19.96                 30.44             5003       9   \n",
       "592                 20.31                 31.06             4696      14   \n",
       "593                 23.16                 33.75             3058       8   \n",
       "594                 19.90                 30.59             1398       3   \n",
       "595                  1.33                  2.13                0       0   \n",
       "\n",
       "     year  month  day_of_week  day       Y_pred  \n",
       "417  2021      8            4   27  4979.836716  \n",
       "418  2021      8            5   28  4463.300205  \n",
       "419  2021      8            6   29  2869.476618  \n",
       "420  2021      8            0   30  6974.632608  \n",
       "421  2021      8            1   31  6502.946193  \n",
       "..    ...    ...          ...  ...          ...  \n",
       "591  2022      2            3   17  2965.133748  \n",
       "592  2022      2            4   18  2950.079909  \n",
       "593  2022      2            5   19  2359.118024  \n",
       "594  2022      2            6   20   547.872963  \n",
       "595  2022      2            0   21  6760.057579  \n",
       "\n",
       "[179 rows x 13 columns]"
      ]
     },
     "execution_count": 75,
     "metadata": {},
     "output_type": "execute_result"
    }
   ],
   "source": [
    "#Comparing actual revenue to predicted revenue\n",
    "Y_test = test['revenue']\n",
    "X_test = test.drop(['ordine_data', 'revenue'], axis =1)\n",
    "\n",
    "# predictions\n",
    "X_test_co = sm.add_constant(X_test) \n",
    "Y_pred = result.predict(X_test_co)\n",
    "\n",
    "#creating final dataframe\n",
    "Y_pred.name = 'Y_pred'\n",
    "data_final = pd.concat([test, Y_pred], axis =1)\n",
    "data_final\n",
    "\n"
   ]
  },
  {
   "cell_type": "code",
   "execution_count": 78,
   "id": "4cdfd90d",
   "metadata": {},
   "outputs": [
    {
     "data": {
      "application/vnd.plotly.v1+json": {
       "config": {
        "plotlyServerURL": "https://plot.ly"
       },
       "data": [
        {
         "name": "revenue",
         "type": "scatter",
         "x": [
          "2021-08-27T00:00:00",
          "2021-08-28T00:00:00",
          "2021-08-29T00:00:00",
          "2021-08-30T00:00:00",
          "2021-08-31T00:00:00",
          "2021-09-01T00:00:00",
          "2021-09-02T00:00:00",
          "2021-09-03T00:00:00",
          "2021-09-04T00:00:00",
          "2021-09-05T00:00:00",
          "2021-09-06T00:00:00",
          "2021-09-07T00:00:00",
          "2021-09-08T00:00:00",
          "2021-09-09T00:00:00",
          "2021-09-10T00:00:00",
          "2021-09-11T00:00:00",
          "2021-09-12T00:00:00",
          "2021-09-13T00:00:00",
          "2021-09-14T00:00:00",
          "2021-09-15T00:00:00",
          "2021-09-16T00:00:00",
          "2021-09-17T00:00:00",
          "2021-09-18T00:00:00",
          "2021-09-19T00:00:00",
          "2021-09-20T00:00:00",
          "2021-09-21T00:00:00",
          "2021-09-22T00:00:00",
          "2021-09-23T00:00:00",
          "2021-09-24T00:00:00",
          "2021-09-25T00:00:00",
          "2021-09-26T00:00:00",
          "2021-09-27T00:00:00",
          "2021-09-28T00:00:00",
          "2021-09-29T00:00:00",
          "2021-09-30T00:00:00",
          "2021-10-01T00:00:00",
          "2021-10-02T00:00:00",
          "2021-10-03T00:00:00",
          "2021-10-04T00:00:00",
          "2021-10-05T00:00:00",
          "2021-10-06T00:00:00",
          "2021-10-07T00:00:00",
          "2021-10-08T00:00:00",
          "2021-10-09T00:00:00",
          "2021-10-10T00:00:00",
          "2021-10-11T00:00:00",
          "2021-10-12T00:00:00",
          "2021-10-13T00:00:00",
          "2021-10-14T00:00:00",
          "2021-10-15T00:00:00",
          "2021-10-16T00:00:00",
          "2021-10-17T00:00:00",
          "2021-10-18T00:00:00",
          "2021-10-19T00:00:00",
          "2021-10-20T00:00:00",
          "2021-10-21T00:00:00",
          "2021-10-22T00:00:00",
          "2021-10-23T00:00:00",
          "2021-10-24T00:00:00",
          "2021-10-25T00:00:00",
          "2021-10-26T00:00:00",
          "2021-10-27T00:00:00",
          "2021-10-28T00:00:00",
          "2021-10-29T00:00:00",
          "2021-10-30T00:00:00",
          "2021-10-31T00:00:00",
          "2021-11-01T00:00:00",
          "2021-11-02T00:00:00",
          "2021-11-03T00:00:00",
          "2021-11-04T00:00:00",
          "2021-11-05T00:00:00",
          "2021-11-06T00:00:00",
          "2021-11-07T00:00:00",
          "2021-11-08T00:00:00",
          "2021-11-09T00:00:00",
          "2021-11-10T00:00:00",
          "2021-11-11T00:00:00",
          "2021-11-12T00:00:00",
          "2021-11-13T00:00:00",
          "2021-11-14T00:00:00",
          "2021-11-15T00:00:00",
          "2021-11-16T00:00:00",
          "2021-11-17T00:00:00",
          "2021-11-18T00:00:00",
          "2021-11-19T00:00:00",
          "2021-11-20T00:00:00",
          "2021-11-21T00:00:00",
          "2021-11-22T00:00:00",
          "2021-11-23T00:00:00",
          "2021-11-24T00:00:00",
          "2021-11-25T00:00:00",
          "2021-11-26T00:00:00",
          "2021-11-27T00:00:00",
          "2021-11-28T00:00:00",
          "2021-11-29T00:00:00",
          "2021-11-30T00:00:00",
          "2021-12-01T00:00:00",
          "2021-12-02T00:00:00",
          "2021-12-03T00:00:00",
          "2021-12-04T00:00:00",
          "2021-12-05T00:00:00",
          "2021-12-06T00:00:00",
          "2021-12-07T00:00:00",
          "2021-12-08T00:00:00",
          "2021-12-09T00:00:00",
          "2021-12-10T00:00:00",
          "2021-12-11T00:00:00",
          "2021-12-12T00:00:00",
          "2021-12-13T00:00:00",
          "2021-12-14T00:00:00",
          "2021-12-15T00:00:00",
          "2021-12-16T00:00:00",
          "2021-12-17T00:00:00",
          "2021-12-18T00:00:00",
          "2021-12-19T00:00:00",
          "2021-12-20T00:00:00",
          "2021-12-21T00:00:00",
          "2021-12-22T00:00:00",
          "2021-12-23T00:00:00",
          "2021-12-24T00:00:00",
          "2021-12-25T00:00:00",
          "2021-12-26T00:00:00",
          "2021-12-27T00:00:00",
          "2021-12-28T00:00:00",
          "2021-12-29T00:00:00",
          "2021-12-30T00:00:00",
          "2021-12-31T00:00:00",
          "2022-01-01T00:00:00",
          "2022-01-02T00:00:00",
          "2022-01-03T00:00:00",
          "2022-01-04T00:00:00",
          "2022-01-05T00:00:00",
          "2022-01-06T00:00:00",
          "2022-01-07T00:00:00",
          "2022-01-08T00:00:00",
          "2022-01-09T00:00:00",
          "2022-01-10T00:00:00",
          "2022-01-11T00:00:00",
          "2022-01-12T00:00:00",
          "2022-01-13T00:00:00",
          "2022-01-14T00:00:00",
          "2022-01-15T00:00:00",
          "2022-01-16T00:00:00",
          "2022-01-17T00:00:00",
          "2022-01-18T00:00:00",
          "2022-01-19T00:00:00",
          "2022-01-20T00:00:00",
          "2022-01-21T00:00:00",
          "2022-01-22T00:00:00",
          "2022-01-23T00:00:00",
          "2022-01-24T00:00:00",
          "2022-01-25T00:00:00",
          "2022-01-26T00:00:00",
          "2022-01-27T00:00:00",
          "2022-01-28T00:00:00",
          "2022-01-29T00:00:00",
          "2022-01-30T00:00:00",
          "2022-01-31T00:00:00",
          "2022-02-01T00:00:00",
          "2022-02-02T00:00:00",
          "2022-02-03T00:00:00",
          "2022-02-04T00:00:00",
          "2022-02-05T00:00:00",
          "2022-02-06T00:00:00",
          "2022-02-07T00:00:00",
          "2022-02-08T00:00:00",
          "2022-02-09T00:00:00",
          "2022-02-10T00:00:00",
          "2022-02-11T00:00:00",
          "2022-02-12T00:00:00",
          "2022-02-13T00:00:00",
          "2022-02-14T00:00:00",
          "2022-02-15T00:00:00",
          "2022-02-16T00:00:00",
          "2022-02-17T00:00:00",
          "2022-02-18T00:00:00",
          "2022-02-19T00:00:00",
          "2022-02-20T00:00:00",
          "2022-02-21T00:00:00"
         ],
         "y": [
          2266.13,
          1728.95,
          2668.24,
          4974.19,
          4830.26,
          4754.74,
          4657.85,
          2886.1,
          1695.6,
          2869.94,
          6673.98,
          6554.67,
          5039.87,
          5182.24,
          3850.21,
          1637.39,
          2461.81,
          6918.33,
          5101.67,
          5335.02,
          4384.38,
          2564.39,
          1507.22,
          3035.38,
          6164.88,
          5666.57,
          5529.19,
          4364.27,
          3441.28,
          1503.72,
          3075.01,
          7223.64,
          6191.63,
          6401.52,
          6006.66,
          3259.89,
          2036.57,
          2537.66,
          5131.19,
          5867.37,
          5541.04,
          4897.76,
          3133.15,
          1820.66,
          2907.35,
          6008.83,
          5485.87,
          5291.73,
          4846.12,
          3644.88,
          1870.71,
          3446.23,
          6795.43,
          5735.92,
          5906.51,
          5183.68,
          3128.48,
          1754.73,
          3043.88,
          5978.04,
          6321.35,
          6043.38,
          4429.38,
          2202.1,
          1740.83,
          1502.6,
          3861.43,
          6534.55,
          5504.45,
          5211.69,
          4218.57,
          2450.73,
          3373.6,
          6543.42,
          6254.53,
          6275.99,
          4800.1,
          2938.72,
          1883.86,
          3064.84,
          5960.51,
          6200.39,
          6126.07,
          4558.39,
          2533.53,
          1489.06,
          3292.68,
          6994.01,
          5961.43,
          5353.82,
          17697.95,
          13613.81,
          2402.75,
          3436.36,
          6987.25,
          4960.64,
          5485.93,
          5306.16,
          5301.18,
          2587.16,
          4190.47,
          7525.98,
          6415.08,
          4915.72,
          7788.17,
          6990.86,
          3055.72,
          4843.64,
          10482.65,
          10581.56,
          9520.25,
          10487.03,
          7024.91,
          3420.89,
          5850.73,
          26047.24,
          20130.25,
          5793.67,
          3231.42,
          1450.1,
          731.38,
          2075.78,
          6543.32,
          7426.74,
          4921.18,
          6507.9,
          1699.36,
          1334.25,
          2450.69,
          5677.11,
          5337.76,
          3523.35,
          2951.59,
          3990.13,
          3120.34,
          3141.9,
          7159.45,
          6919.14,
          5980.13,
          5737.6,
          4374.84,
          2179.55,
          3599.79,
          7773.84,
          7728.56,
          7172.95,
          5583.26,
          3689.49,
          2148.72,
          2861.71,
          6677.14,
          6894.49,
          6107.54,
          6592.92,
          4045.78,
          5824.62,
          3219.01,
          8797.88,
          7117.38,
          5999.78,
          5045.91,
          4362.41,
          1849.98,
          3422.41,
          7877.16,
          6893.43,
          6278.3,
          6400.52,
          3921.14,
          2325.44,
          3174.37,
          7166.95,
          7475.88,
          5648.14,
          6061.37,
          3722.15,
          2670.47,
          3385.87,
          372.27
         ]
        },
        {
         "name": "predicted revenue",
         "type": "scatter",
         "x": [
          "2021-08-27T00:00:00",
          "2021-08-28T00:00:00",
          "2021-08-29T00:00:00",
          "2021-08-30T00:00:00",
          "2021-08-31T00:00:00",
          "2021-09-01T00:00:00",
          "2021-09-02T00:00:00",
          "2021-09-03T00:00:00",
          "2021-09-04T00:00:00",
          "2021-09-05T00:00:00",
          "2021-09-06T00:00:00",
          "2021-09-07T00:00:00",
          "2021-09-08T00:00:00",
          "2021-09-09T00:00:00",
          "2021-09-10T00:00:00",
          "2021-09-11T00:00:00",
          "2021-09-12T00:00:00",
          "2021-09-13T00:00:00",
          "2021-09-14T00:00:00",
          "2021-09-15T00:00:00",
          "2021-09-16T00:00:00",
          "2021-09-17T00:00:00",
          "2021-09-18T00:00:00",
          "2021-09-19T00:00:00",
          "2021-09-20T00:00:00",
          "2021-09-21T00:00:00",
          "2021-09-22T00:00:00",
          "2021-09-23T00:00:00",
          "2021-09-24T00:00:00",
          "2021-09-25T00:00:00",
          "2021-09-26T00:00:00",
          "2021-09-27T00:00:00",
          "2021-09-28T00:00:00",
          "2021-09-29T00:00:00",
          "2021-09-30T00:00:00",
          "2021-10-01T00:00:00",
          "2021-10-02T00:00:00",
          "2021-10-03T00:00:00",
          "2021-10-04T00:00:00",
          "2021-10-05T00:00:00",
          "2021-10-06T00:00:00",
          "2021-10-07T00:00:00",
          "2021-10-08T00:00:00",
          "2021-10-09T00:00:00",
          "2021-10-10T00:00:00",
          "2021-10-11T00:00:00",
          "2021-10-12T00:00:00",
          "2021-10-13T00:00:00",
          "2021-10-14T00:00:00",
          "2021-10-15T00:00:00",
          "2021-10-16T00:00:00",
          "2021-10-17T00:00:00",
          "2021-10-18T00:00:00",
          "2021-10-19T00:00:00",
          "2021-10-20T00:00:00",
          "2021-10-21T00:00:00",
          "2021-10-22T00:00:00",
          "2021-10-23T00:00:00",
          "2021-10-24T00:00:00",
          "2021-10-25T00:00:00",
          "2021-10-26T00:00:00",
          "2021-10-27T00:00:00",
          "2021-10-28T00:00:00",
          "2021-10-29T00:00:00",
          "2021-10-30T00:00:00",
          "2021-10-31T00:00:00",
          "2021-11-01T00:00:00",
          "2021-11-02T00:00:00",
          "2021-11-03T00:00:00",
          "2021-11-04T00:00:00",
          "2021-11-05T00:00:00",
          "2021-11-06T00:00:00",
          "2021-11-07T00:00:00",
          "2021-11-08T00:00:00",
          "2021-11-09T00:00:00",
          "2021-11-10T00:00:00",
          "2021-11-11T00:00:00",
          "2021-11-12T00:00:00",
          "2021-11-13T00:00:00",
          "2021-11-14T00:00:00",
          "2021-11-15T00:00:00",
          "2021-11-16T00:00:00",
          "2021-11-17T00:00:00",
          "2021-11-18T00:00:00",
          "2021-11-19T00:00:00",
          "2021-11-20T00:00:00",
          "2021-11-21T00:00:00",
          "2021-11-22T00:00:00",
          "2021-11-23T00:00:00",
          "2021-11-24T00:00:00",
          "2021-11-25T00:00:00",
          "2021-11-26T00:00:00",
          "2021-11-27T00:00:00",
          "2021-11-28T00:00:00",
          "2021-11-29T00:00:00",
          "2021-11-30T00:00:00",
          "2021-12-01T00:00:00",
          "2021-12-02T00:00:00",
          "2021-12-03T00:00:00",
          "2021-12-04T00:00:00",
          "2021-12-05T00:00:00",
          "2021-12-06T00:00:00",
          "2021-12-07T00:00:00",
          "2021-12-08T00:00:00",
          "2021-12-09T00:00:00",
          "2021-12-10T00:00:00",
          "2021-12-11T00:00:00",
          "2021-12-12T00:00:00",
          "2021-12-13T00:00:00",
          "2021-12-14T00:00:00",
          "2021-12-15T00:00:00",
          "2021-12-16T00:00:00",
          "2021-12-17T00:00:00",
          "2021-12-18T00:00:00",
          "2021-12-19T00:00:00",
          "2021-12-20T00:00:00",
          "2021-12-21T00:00:00",
          "2021-12-22T00:00:00",
          "2021-12-23T00:00:00",
          "2021-12-24T00:00:00",
          "2021-12-25T00:00:00",
          "2021-12-26T00:00:00",
          "2021-12-27T00:00:00",
          "2021-12-28T00:00:00",
          "2021-12-29T00:00:00",
          "2021-12-30T00:00:00",
          "2021-12-31T00:00:00",
          "2022-01-01T00:00:00",
          "2022-01-02T00:00:00",
          "2022-01-03T00:00:00",
          "2022-01-04T00:00:00",
          "2022-01-05T00:00:00",
          "2022-01-06T00:00:00",
          "2022-01-07T00:00:00",
          "2022-01-08T00:00:00",
          "2022-01-09T00:00:00",
          "2022-01-10T00:00:00",
          "2022-01-11T00:00:00",
          "2022-01-12T00:00:00",
          "2022-01-13T00:00:00",
          "2022-01-14T00:00:00",
          "2022-01-15T00:00:00",
          "2022-01-16T00:00:00",
          "2022-01-17T00:00:00",
          "2022-01-18T00:00:00",
          "2022-01-19T00:00:00",
          "2022-01-20T00:00:00",
          "2022-01-21T00:00:00",
          "2022-01-22T00:00:00",
          "2022-01-23T00:00:00",
          "2022-01-24T00:00:00",
          "2022-01-25T00:00:00",
          "2022-01-26T00:00:00",
          "2022-01-27T00:00:00",
          "2022-01-28T00:00:00",
          "2022-01-29T00:00:00",
          "2022-01-30T00:00:00",
          "2022-01-31T00:00:00",
          "2022-02-01T00:00:00",
          "2022-02-02T00:00:00",
          "2022-02-03T00:00:00",
          "2022-02-04T00:00:00",
          "2022-02-05T00:00:00",
          "2022-02-06T00:00:00",
          "2022-02-07T00:00:00",
          "2022-02-08T00:00:00",
          "2022-02-09T00:00:00",
          "2022-02-10T00:00:00",
          "2022-02-11T00:00:00",
          "2022-02-12T00:00:00",
          "2022-02-13T00:00:00",
          "2022-02-14T00:00:00",
          "2022-02-15T00:00:00",
          "2022-02-16T00:00:00",
          "2022-02-17T00:00:00",
          "2022-02-18T00:00:00",
          "2022-02-19T00:00:00",
          "2022-02-20T00:00:00",
          "2022-02-21T00:00:00"
         ],
         "y": [
          4979.83671638177,
          4463.300204659513,
          2869.476618083356,
          6974.632607666923,
          6502.946192985079,
          5088.896858766934,
          4031.671327971876,
          3858.719152057563,
          3152.075301316583,
          1359.278062265845,
          7133.875924797494,
          6243.07952926028,
          5578.234361401984,
          4373.548536963517,
          3516.2627020412906,
          2821.401408403162,
          1268.2807438622476,
          7185.751842437741,
          6482.820931564511,
          5720.067981625166,
          4676.42968060188,
          3804.1328821158468,
          3022.255732380732,
          2251.8776790305874,
          8376.702234914223,
          8037.009440079724,
          8214.2924829879,
          3802.656175936025,
          3753.4785450963855,
          2070.7548264520296,
          761.4669040699042,
          8495.401029883778,
          6824.792282424291,
          5758.192656463365,
          7054.754326760421,
          5757.451114941749,
          4515.2776764744285,
          3407.862704189383,
          9583.482386103706,
          9179.017503206022,
          7456.580119956152,
          6732.009295766338,
          5346.59296273077,
          4285.9715794241965,
          3664.008512222062,
          9521.382123267816,
          10355.913745314649,
          4979.379467742349,
          6633.601885652697,
          5214.852691103065,
          4185.05047382676,
          3151.56436221656,
          8118.016663793278,
          8134.386559425888,
          7360.539578969156,
          6312.8102190639165,
          4840.660440370463,
          4094.3446583214886,
          2949.6782508213237,
          9244.431792655263,
          8710.696512284921,
          7691.798015307166,
          5105.998245185699,
          6167.390838774376,
          4926.674416534356,
          3178.7315139190578,
          9656.274784729203,
          9135.79134088926,
          8648.893709051268,
          8339.943739237338,
          5845.005595215203,
          4840.14933992743,
          2587.9926349307134,
          9746.989281373848,
          9167.095334263568,
          7874.630348156251,
          7074.508461223956,
          5781.65670612272,
          4986.115951773746,
          3961.4823300799203,
          10185.562879798716,
          8950.35000562483,
          8386.550598410433,
          8149.192009170311,
          5718.003289978722,
          4644.897228555056,
          3728.029298519247,
          9571.315156017645,
          8922.737651299898,
          7801.1375130444985,
          12924.51668808024,
          12112.08024456209,
          4950.034358456464,
          4102.546855813087,
          10311.328131506165,
          8372.645127008615,
          8357.465622237138,
          6198.692094818174,
          6577.881933279749,
          5212.727574640597,
          4738.858783676463,
          9617.414129704397,
          8948.006731515674,
          7701.084931229627,
          6347.2829233009,
          6338.9143395932915,
          4387.134671373203,
          4040.2509287052317,
          10263.219902352088,
          9756.21388022893,
          8741.161539529567,
          8609.613771747678,
          7784.332814572488,
          4318.418330045292,
          3583.855023195839,
          20175.538205088902,
          15874.66146487239,
          8736.437653009396,
          8294.633566178925,
          5776.64186689987,
          4219.4940067448915,
          3483.735003643273,
          9888.347159058841,
          10662.954945603902,
          9394.87480374477,
          7303.996640950253,
          6155.240930462531,
          1649.957834865839,
          1054.3383869551433,
          7541.196832391357,
          6847.802368193318,
          5620.745493032653,
          3742.331308090507,
          3762.9575854026743,
          2484.2158641499927,
          1456.1100488855932,
          8589.956769828339,
          8034.509256498307,
          6904.829831251755,
          5979.771655340556,
          4923.665626954396,
          2543.263276744273,
          1756.6761528901836,
          7680.328885934635,
          7928.729779271492,
          5040.266197225392,
          4073.1975290391892,
          2947.7327113736687,
          1966.0204510649899,
          644.5712981154876,
          6920.177974280487,
          7145.890413530452,
          4934.959263188577,
          4580.416785082124,
          3267.8783771058465,
          1943.8881403867042,
          1150.7843625555133,
          6583.671166040486,
          6763.248012149373,
          5327.186373752438,
          4250.542791044932,
          1081.1071098990562,
          1914.2214016799142,
          944.1343225721494,
          6519.019624204709,
          6100.418255858453,
          5926.961168734451,
          4466.1352368086555,
          2490.8951633280085,
          2065.0497706102583,
          860.2528612316463,
          6619.583838513187,
          6233.173539635322,
          5462.127979708429,
          2965.133747800775,
          2950.079908927257,
          2359.1180237797585,
          547.8729633458885,
          6760.057578910174
         ]
        }
       ],
       "layout": {
        "template": {
         "data": {
          "bar": [
           {
            "error_x": {
             "color": "#2a3f5f"
            },
            "error_y": {
             "color": "#2a3f5f"
            },
            "marker": {
             "line": {
              "color": "#E5ECF6",
              "width": 0.5
             },
             "pattern": {
              "fillmode": "overlay",
              "size": 10,
              "solidity": 0.2
             }
            },
            "type": "bar"
           }
          ],
          "barpolar": [
           {
            "marker": {
             "line": {
              "color": "#E5ECF6",
              "width": 0.5
             },
             "pattern": {
              "fillmode": "overlay",
              "size": 10,
              "solidity": 0.2
             }
            },
            "type": "barpolar"
           }
          ],
          "carpet": [
           {
            "aaxis": {
             "endlinecolor": "#2a3f5f",
             "gridcolor": "white",
             "linecolor": "white",
             "minorgridcolor": "white",
             "startlinecolor": "#2a3f5f"
            },
            "baxis": {
             "endlinecolor": "#2a3f5f",
             "gridcolor": "white",
             "linecolor": "white",
             "minorgridcolor": "white",
             "startlinecolor": "#2a3f5f"
            },
            "type": "carpet"
           }
          ],
          "choropleth": [
           {
            "colorbar": {
             "outlinewidth": 0,
             "ticks": ""
            },
            "type": "choropleth"
           }
          ],
          "contour": [
           {
            "colorbar": {
             "outlinewidth": 0,
             "ticks": ""
            },
            "colorscale": [
             [
              0,
              "#0d0887"
             ],
             [
              0.1111111111111111,
              "#46039f"
             ],
             [
              0.2222222222222222,
              "#7201a8"
             ],
             [
              0.3333333333333333,
              "#9c179e"
             ],
             [
              0.4444444444444444,
              "#bd3786"
             ],
             [
              0.5555555555555556,
              "#d8576b"
             ],
             [
              0.6666666666666666,
              "#ed7953"
             ],
             [
              0.7777777777777778,
              "#fb9f3a"
             ],
             [
              0.8888888888888888,
              "#fdca26"
             ],
             [
              1,
              "#f0f921"
             ]
            ],
            "type": "contour"
           }
          ],
          "contourcarpet": [
           {
            "colorbar": {
             "outlinewidth": 0,
             "ticks": ""
            },
            "type": "contourcarpet"
           }
          ],
          "heatmap": [
           {
            "colorbar": {
             "outlinewidth": 0,
             "ticks": ""
            },
            "colorscale": [
             [
              0,
              "#0d0887"
             ],
             [
              0.1111111111111111,
              "#46039f"
             ],
             [
              0.2222222222222222,
              "#7201a8"
             ],
             [
              0.3333333333333333,
              "#9c179e"
             ],
             [
              0.4444444444444444,
              "#bd3786"
             ],
             [
              0.5555555555555556,
              "#d8576b"
             ],
             [
              0.6666666666666666,
              "#ed7953"
             ],
             [
              0.7777777777777778,
              "#fb9f3a"
             ],
             [
              0.8888888888888888,
              "#fdca26"
             ],
             [
              1,
              "#f0f921"
             ]
            ],
            "type": "heatmap"
           }
          ],
          "heatmapgl": [
           {
            "colorbar": {
             "outlinewidth": 0,
             "ticks": ""
            },
            "colorscale": [
             [
              0,
              "#0d0887"
             ],
             [
              0.1111111111111111,
              "#46039f"
             ],
             [
              0.2222222222222222,
              "#7201a8"
             ],
             [
              0.3333333333333333,
              "#9c179e"
             ],
             [
              0.4444444444444444,
              "#bd3786"
             ],
             [
              0.5555555555555556,
              "#d8576b"
             ],
             [
              0.6666666666666666,
              "#ed7953"
             ],
             [
              0.7777777777777778,
              "#fb9f3a"
             ],
             [
              0.8888888888888888,
              "#fdca26"
             ],
             [
              1,
              "#f0f921"
             ]
            ],
            "type": "heatmapgl"
           }
          ],
          "histogram": [
           {
            "marker": {
             "pattern": {
              "fillmode": "overlay",
              "size": 10,
              "solidity": 0.2
             }
            },
            "type": "histogram"
           }
          ],
          "histogram2d": [
           {
            "colorbar": {
             "outlinewidth": 0,
             "ticks": ""
            },
            "colorscale": [
             [
              0,
              "#0d0887"
             ],
             [
              0.1111111111111111,
              "#46039f"
             ],
             [
              0.2222222222222222,
              "#7201a8"
             ],
             [
              0.3333333333333333,
              "#9c179e"
             ],
             [
              0.4444444444444444,
              "#bd3786"
             ],
             [
              0.5555555555555556,
              "#d8576b"
             ],
             [
              0.6666666666666666,
              "#ed7953"
             ],
             [
              0.7777777777777778,
              "#fb9f3a"
             ],
             [
              0.8888888888888888,
              "#fdca26"
             ],
             [
              1,
              "#f0f921"
             ]
            ],
            "type": "histogram2d"
           }
          ],
          "histogram2dcontour": [
           {
            "colorbar": {
             "outlinewidth": 0,
             "ticks": ""
            },
            "colorscale": [
             [
              0,
              "#0d0887"
             ],
             [
              0.1111111111111111,
              "#46039f"
             ],
             [
              0.2222222222222222,
              "#7201a8"
             ],
             [
              0.3333333333333333,
              "#9c179e"
             ],
             [
              0.4444444444444444,
              "#bd3786"
             ],
             [
              0.5555555555555556,
              "#d8576b"
             ],
             [
              0.6666666666666666,
              "#ed7953"
             ],
             [
              0.7777777777777778,
              "#fb9f3a"
             ],
             [
              0.8888888888888888,
              "#fdca26"
             ],
             [
              1,
              "#f0f921"
             ]
            ],
            "type": "histogram2dcontour"
           }
          ],
          "mesh3d": [
           {
            "colorbar": {
             "outlinewidth": 0,
             "ticks": ""
            },
            "type": "mesh3d"
           }
          ],
          "parcoords": [
           {
            "line": {
             "colorbar": {
              "outlinewidth": 0,
              "ticks": ""
             }
            },
            "type": "parcoords"
           }
          ],
          "pie": [
           {
            "automargin": true,
            "type": "pie"
           }
          ],
          "scatter": [
           {
            "fillpattern": {
             "fillmode": "overlay",
             "size": 10,
             "solidity": 0.2
            },
            "type": "scatter"
           }
          ],
          "scatter3d": [
           {
            "line": {
             "colorbar": {
              "outlinewidth": 0,
              "ticks": ""
             }
            },
            "marker": {
             "colorbar": {
              "outlinewidth": 0,
              "ticks": ""
             }
            },
            "type": "scatter3d"
           }
          ],
          "scattercarpet": [
           {
            "marker": {
             "colorbar": {
              "outlinewidth": 0,
              "ticks": ""
             }
            },
            "type": "scattercarpet"
           }
          ],
          "scattergeo": [
           {
            "marker": {
             "colorbar": {
              "outlinewidth": 0,
              "ticks": ""
             }
            },
            "type": "scattergeo"
           }
          ],
          "scattergl": [
           {
            "marker": {
             "colorbar": {
              "outlinewidth": 0,
              "ticks": ""
             }
            },
            "type": "scattergl"
           }
          ],
          "scattermapbox": [
           {
            "marker": {
             "colorbar": {
              "outlinewidth": 0,
              "ticks": ""
             }
            },
            "type": "scattermapbox"
           }
          ],
          "scatterpolar": [
           {
            "marker": {
             "colorbar": {
              "outlinewidth": 0,
              "ticks": ""
             }
            },
            "type": "scatterpolar"
           }
          ],
          "scatterpolargl": [
           {
            "marker": {
             "colorbar": {
              "outlinewidth": 0,
              "ticks": ""
             }
            },
            "type": "scatterpolargl"
           }
          ],
          "scatterternary": [
           {
            "marker": {
             "colorbar": {
              "outlinewidth": 0,
              "ticks": ""
             }
            },
            "type": "scatterternary"
           }
          ],
          "surface": [
           {
            "colorbar": {
             "outlinewidth": 0,
             "ticks": ""
            },
            "colorscale": [
             [
              0,
              "#0d0887"
             ],
             [
              0.1111111111111111,
              "#46039f"
             ],
             [
              0.2222222222222222,
              "#7201a8"
             ],
             [
              0.3333333333333333,
              "#9c179e"
             ],
             [
              0.4444444444444444,
              "#bd3786"
             ],
             [
              0.5555555555555556,
              "#d8576b"
             ],
             [
              0.6666666666666666,
              "#ed7953"
             ],
             [
              0.7777777777777778,
              "#fb9f3a"
             ],
             [
              0.8888888888888888,
              "#fdca26"
             ],
             [
              1,
              "#f0f921"
             ]
            ],
            "type": "surface"
           }
          ],
          "table": [
           {
            "cells": {
             "fill": {
              "color": "#EBF0F8"
             },
             "line": {
              "color": "white"
             }
            },
            "header": {
             "fill": {
              "color": "#C8D4E3"
             },
             "line": {
              "color": "white"
             }
            },
            "type": "table"
           }
          ]
         },
         "layout": {
          "annotationdefaults": {
           "arrowcolor": "#2a3f5f",
           "arrowhead": 0,
           "arrowwidth": 1
          },
          "autotypenumbers": "strict",
          "coloraxis": {
           "colorbar": {
            "outlinewidth": 0,
            "ticks": ""
           }
          },
          "colorscale": {
           "diverging": [
            [
             0,
             "#8e0152"
            ],
            [
             0.1,
             "#c51b7d"
            ],
            [
             0.2,
             "#de77ae"
            ],
            [
             0.3,
             "#f1b6da"
            ],
            [
             0.4,
             "#fde0ef"
            ],
            [
             0.5,
             "#f7f7f7"
            ],
            [
             0.6,
             "#e6f5d0"
            ],
            [
             0.7,
             "#b8e186"
            ],
            [
             0.8,
             "#7fbc41"
            ],
            [
             0.9,
             "#4d9221"
            ],
            [
             1,
             "#276419"
            ]
           ],
           "sequential": [
            [
             0,
             "#0d0887"
            ],
            [
             0.1111111111111111,
             "#46039f"
            ],
            [
             0.2222222222222222,
             "#7201a8"
            ],
            [
             0.3333333333333333,
             "#9c179e"
            ],
            [
             0.4444444444444444,
             "#bd3786"
            ],
            [
             0.5555555555555556,
             "#d8576b"
            ],
            [
             0.6666666666666666,
             "#ed7953"
            ],
            [
             0.7777777777777778,
             "#fb9f3a"
            ],
            [
             0.8888888888888888,
             "#fdca26"
            ],
            [
             1,
             "#f0f921"
            ]
           ],
           "sequentialminus": [
            [
             0,
             "#0d0887"
            ],
            [
             0.1111111111111111,
             "#46039f"
            ],
            [
             0.2222222222222222,
             "#7201a8"
            ],
            [
             0.3333333333333333,
             "#9c179e"
            ],
            [
             0.4444444444444444,
             "#bd3786"
            ],
            [
             0.5555555555555556,
             "#d8576b"
            ],
            [
             0.6666666666666666,
             "#ed7953"
            ],
            [
             0.7777777777777778,
             "#fb9f3a"
            ],
            [
             0.8888888888888888,
             "#fdca26"
            ],
            [
             1,
             "#f0f921"
            ]
           ]
          },
          "colorway": [
           "#636efa",
           "#EF553B",
           "#00cc96",
           "#ab63fa",
           "#FFA15A",
           "#19d3f3",
           "#FF6692",
           "#B6E880",
           "#FF97FF",
           "#FECB52"
          ],
          "font": {
           "color": "#2a3f5f"
          },
          "geo": {
           "bgcolor": "white",
           "lakecolor": "white",
           "landcolor": "#E5ECF6",
           "showlakes": true,
           "showland": true,
           "subunitcolor": "white"
          },
          "hoverlabel": {
           "align": "left"
          },
          "hovermode": "closest",
          "mapbox": {
           "style": "light"
          },
          "paper_bgcolor": "white",
          "plot_bgcolor": "#E5ECF6",
          "polar": {
           "angularaxis": {
            "gridcolor": "white",
            "linecolor": "white",
            "ticks": ""
           },
           "bgcolor": "#E5ECF6",
           "radialaxis": {
            "gridcolor": "white",
            "linecolor": "white",
            "ticks": ""
           }
          },
          "scene": {
           "xaxis": {
            "backgroundcolor": "#E5ECF6",
            "gridcolor": "white",
            "gridwidth": 2,
            "linecolor": "white",
            "showbackground": true,
            "ticks": "",
            "zerolinecolor": "white"
           },
           "yaxis": {
            "backgroundcolor": "#E5ECF6",
            "gridcolor": "white",
            "gridwidth": 2,
            "linecolor": "white",
            "showbackground": true,
            "ticks": "",
            "zerolinecolor": "white"
           },
           "zaxis": {
            "backgroundcolor": "#E5ECF6",
            "gridcolor": "white",
            "gridwidth": 2,
            "linecolor": "white",
            "showbackground": true,
            "ticks": "",
            "zerolinecolor": "white"
           }
          },
          "shapedefaults": {
           "line": {
            "color": "#2a3f5f"
           }
          },
          "ternary": {
           "aaxis": {
            "gridcolor": "white",
            "linecolor": "white",
            "ticks": ""
           },
           "baxis": {
            "gridcolor": "white",
            "linecolor": "white",
            "ticks": ""
           },
           "bgcolor": "#E5ECF6",
           "caxis": {
            "gridcolor": "white",
            "linecolor": "white",
            "ticks": ""
           }
          },
          "title": {
           "x": 0.05
          },
          "xaxis": {
           "automargin": true,
           "gridcolor": "white",
           "linecolor": "white",
           "ticks": "",
           "title": {
            "standoff": 15
           },
           "zerolinecolor": "white",
           "zerolinewidth": 2
          },
          "yaxis": {
           "automargin": true,
           "gridcolor": "white",
           "linecolor": "white",
           "ticks": "",
           "title": {
            "standoff": 15
           },
           "zerolinecolor": "white",
           "zerolinewidth": 2
          }
         }
        },
        "yaxis": {
         "title": {
          "text": "Revenue"
         }
        }
       }
      },
      "text/html": [
       "<div>                            <div id=\"fa0854c6-e186-4f75-a977-34596a37e8fb\" class=\"plotly-graph-div\" style=\"height:525px; width:100%;\"></div>            <script type=\"text/javascript\">                require([\"plotly\"], function(Plotly) {                    window.PLOTLYENV=window.PLOTLYENV || {};                                    if (document.getElementById(\"fa0854c6-e186-4f75-a977-34596a37e8fb\")) {                    Plotly.newPlot(                        \"fa0854c6-e186-4f75-a977-34596a37e8fb\",                        [{\"name\":\"revenue\",\"x\":[\"2021-08-27T00:00:00\",\"2021-08-28T00:00:00\",\"2021-08-29T00:00:00\",\"2021-08-30T00:00:00\",\"2021-08-31T00:00:00\",\"2021-09-01T00:00:00\",\"2021-09-02T00:00:00\",\"2021-09-03T00:00:00\",\"2021-09-04T00:00:00\",\"2021-09-05T00:00:00\",\"2021-09-06T00:00:00\",\"2021-09-07T00:00:00\",\"2021-09-08T00:00:00\",\"2021-09-09T00:00:00\",\"2021-09-10T00:00:00\",\"2021-09-11T00:00:00\",\"2021-09-12T00:00:00\",\"2021-09-13T00:00:00\",\"2021-09-14T00:00:00\",\"2021-09-15T00:00:00\",\"2021-09-16T00:00:00\",\"2021-09-17T00:00:00\",\"2021-09-18T00:00:00\",\"2021-09-19T00:00:00\",\"2021-09-20T00:00:00\",\"2021-09-21T00:00:00\",\"2021-09-22T00:00:00\",\"2021-09-23T00:00:00\",\"2021-09-24T00:00:00\",\"2021-09-25T00:00:00\",\"2021-09-26T00:00:00\",\"2021-09-27T00:00:00\",\"2021-09-28T00:00:00\",\"2021-09-29T00:00:00\",\"2021-09-30T00:00:00\",\"2021-10-01T00:00:00\",\"2021-10-02T00:00:00\",\"2021-10-03T00:00:00\",\"2021-10-04T00:00:00\",\"2021-10-05T00:00:00\",\"2021-10-06T00:00:00\",\"2021-10-07T00:00:00\",\"2021-10-08T00:00:00\",\"2021-10-09T00:00:00\",\"2021-10-10T00:00:00\",\"2021-10-11T00:00:00\",\"2021-10-12T00:00:00\",\"2021-10-13T00:00:00\",\"2021-10-14T00:00:00\",\"2021-10-15T00:00:00\",\"2021-10-16T00:00:00\",\"2021-10-17T00:00:00\",\"2021-10-18T00:00:00\",\"2021-10-19T00:00:00\",\"2021-10-20T00:00:00\",\"2021-10-21T00:00:00\",\"2021-10-22T00:00:00\",\"2021-10-23T00:00:00\",\"2021-10-24T00:00:00\",\"2021-10-25T00:00:00\",\"2021-10-26T00:00:00\",\"2021-10-27T00:00:00\",\"2021-10-28T00:00:00\",\"2021-10-29T00:00:00\",\"2021-10-30T00:00:00\",\"2021-10-31T00:00:00\",\"2021-11-01T00:00:00\",\"2021-11-02T00:00:00\",\"2021-11-03T00:00:00\",\"2021-11-04T00:00:00\",\"2021-11-05T00:00:00\",\"2021-11-06T00:00:00\",\"2021-11-07T00:00:00\",\"2021-11-08T00:00:00\",\"2021-11-09T00:00:00\",\"2021-11-10T00:00:00\",\"2021-11-11T00:00:00\",\"2021-11-12T00:00:00\",\"2021-11-13T00:00:00\",\"2021-11-14T00:00:00\",\"2021-11-15T00:00:00\",\"2021-11-16T00:00:00\",\"2021-11-17T00:00:00\",\"2021-11-18T00:00:00\",\"2021-11-19T00:00:00\",\"2021-11-20T00:00:00\",\"2021-11-21T00:00:00\",\"2021-11-22T00:00:00\",\"2021-11-23T00:00:00\",\"2021-11-24T00:00:00\",\"2021-11-25T00:00:00\",\"2021-11-26T00:00:00\",\"2021-11-27T00:00:00\",\"2021-11-28T00:00:00\",\"2021-11-29T00:00:00\",\"2021-11-30T00:00:00\",\"2021-12-01T00:00:00\",\"2021-12-02T00:00:00\",\"2021-12-03T00:00:00\",\"2021-12-04T00:00:00\",\"2021-12-05T00:00:00\",\"2021-12-06T00:00:00\",\"2021-12-07T00:00:00\",\"2021-12-08T00:00:00\",\"2021-12-09T00:00:00\",\"2021-12-10T00:00:00\",\"2021-12-11T00:00:00\",\"2021-12-12T00:00:00\",\"2021-12-13T00:00:00\",\"2021-12-14T00:00:00\",\"2021-12-15T00:00:00\",\"2021-12-16T00:00:00\",\"2021-12-17T00:00:00\",\"2021-12-18T00:00:00\",\"2021-12-19T00:00:00\",\"2021-12-20T00:00:00\",\"2021-12-21T00:00:00\",\"2021-12-22T00:00:00\",\"2021-12-23T00:00:00\",\"2021-12-24T00:00:00\",\"2021-12-25T00:00:00\",\"2021-12-26T00:00:00\",\"2021-12-27T00:00:00\",\"2021-12-28T00:00:00\",\"2021-12-29T00:00:00\",\"2021-12-30T00:00:00\",\"2021-12-31T00:00:00\",\"2022-01-01T00:00:00\",\"2022-01-02T00:00:00\",\"2022-01-03T00:00:00\",\"2022-01-04T00:00:00\",\"2022-01-05T00:00:00\",\"2022-01-06T00:00:00\",\"2022-01-07T00:00:00\",\"2022-01-08T00:00:00\",\"2022-01-09T00:00:00\",\"2022-01-10T00:00:00\",\"2022-01-11T00:00:00\",\"2022-01-12T00:00:00\",\"2022-01-13T00:00:00\",\"2022-01-14T00:00:00\",\"2022-01-15T00:00:00\",\"2022-01-16T00:00:00\",\"2022-01-17T00:00:00\",\"2022-01-18T00:00:00\",\"2022-01-19T00:00:00\",\"2022-01-20T00:00:00\",\"2022-01-21T00:00:00\",\"2022-01-22T00:00:00\",\"2022-01-23T00:00:00\",\"2022-01-24T00:00:00\",\"2022-01-25T00:00:00\",\"2022-01-26T00:00:00\",\"2022-01-27T00:00:00\",\"2022-01-28T00:00:00\",\"2022-01-29T00:00:00\",\"2022-01-30T00:00:00\",\"2022-01-31T00:00:00\",\"2022-02-01T00:00:00\",\"2022-02-02T00:00:00\",\"2022-02-03T00:00:00\",\"2022-02-04T00:00:00\",\"2022-02-05T00:00:00\",\"2022-02-06T00:00:00\",\"2022-02-07T00:00:00\",\"2022-02-08T00:00:00\",\"2022-02-09T00:00:00\",\"2022-02-10T00:00:00\",\"2022-02-11T00:00:00\",\"2022-02-12T00:00:00\",\"2022-02-13T00:00:00\",\"2022-02-14T00:00:00\",\"2022-02-15T00:00:00\",\"2022-02-16T00:00:00\",\"2022-02-17T00:00:00\",\"2022-02-18T00:00:00\",\"2022-02-19T00:00:00\",\"2022-02-20T00:00:00\",\"2022-02-21T00:00:00\"],\"y\":[2266.13,1728.95,2668.24,4974.19,4830.26,4754.74,4657.85,2886.1,1695.6,2869.94,6673.98,6554.67,5039.87,5182.24,3850.21,1637.39,2461.81,6918.33,5101.67,5335.02,4384.38,2564.39,1507.22,3035.38,6164.88,5666.57,5529.19,4364.27,3441.28,1503.72,3075.01,7223.64,6191.63,6401.52,6006.66,3259.89,2036.57,2537.66,5131.19,5867.37,5541.04,4897.76,3133.15,1820.66,2907.35,6008.83,5485.87,5291.73,4846.12,3644.88,1870.71,3446.23,6795.43,5735.92,5906.51,5183.68,3128.48,1754.73,3043.88,5978.04,6321.35,6043.38,4429.38,2202.1,1740.83,1502.6,3861.43,6534.55,5504.45,5211.69,4218.57,2450.73,3373.6,6543.42,6254.53,6275.99,4800.1,2938.72,1883.86,3064.84,5960.51,6200.39,6126.07,4558.39,2533.53,1489.06,3292.68,6994.01,5961.43,5353.82,17697.95,13613.81,2402.75,3436.36,6987.25,4960.64,5485.93,5306.16,5301.18,2587.16,4190.47,7525.98,6415.08,4915.72,7788.17,6990.86,3055.72,4843.64,10482.65,10581.56,9520.25,10487.03,7024.91,3420.89,5850.73,26047.24,20130.25,5793.67,3231.42,1450.1,731.38,2075.78,6543.32,7426.74,4921.18,6507.9,1699.36,1334.25,2450.69,5677.11,5337.76,3523.35,2951.59,3990.13,3120.34,3141.9,7159.45,6919.14,5980.13,5737.6,4374.84,2179.55,3599.79,7773.84,7728.56,7172.95,5583.26,3689.49,2148.72,2861.71,6677.14,6894.49,6107.54,6592.92,4045.78,5824.62,3219.01,8797.88,7117.38,5999.78,5045.91,4362.41,1849.98,3422.41,7877.16,6893.43,6278.3,6400.52,3921.14,2325.44,3174.37,7166.95,7475.88,5648.14,6061.37,3722.15,2670.47,3385.87,372.27],\"type\":\"scatter\"},{\"name\":\"predicted revenue\",\"x\":[\"2021-08-27T00:00:00\",\"2021-08-28T00:00:00\",\"2021-08-29T00:00:00\",\"2021-08-30T00:00:00\",\"2021-08-31T00:00:00\",\"2021-09-01T00:00:00\",\"2021-09-02T00:00:00\",\"2021-09-03T00:00:00\",\"2021-09-04T00:00:00\",\"2021-09-05T00:00:00\",\"2021-09-06T00:00:00\",\"2021-09-07T00:00:00\",\"2021-09-08T00:00:00\",\"2021-09-09T00:00:00\",\"2021-09-10T00:00:00\",\"2021-09-11T00:00:00\",\"2021-09-12T00:00:00\",\"2021-09-13T00:00:00\",\"2021-09-14T00:00:00\",\"2021-09-15T00:00:00\",\"2021-09-16T00:00:00\",\"2021-09-17T00:00:00\",\"2021-09-18T00:00:00\",\"2021-09-19T00:00:00\",\"2021-09-20T00:00:00\",\"2021-09-21T00:00:00\",\"2021-09-22T00:00:00\",\"2021-09-23T00:00:00\",\"2021-09-24T00:00:00\",\"2021-09-25T00:00:00\",\"2021-09-26T00:00:00\",\"2021-09-27T00:00:00\",\"2021-09-28T00:00:00\",\"2021-09-29T00:00:00\",\"2021-09-30T00:00:00\",\"2021-10-01T00:00:00\",\"2021-10-02T00:00:00\",\"2021-10-03T00:00:00\",\"2021-10-04T00:00:00\",\"2021-10-05T00:00:00\",\"2021-10-06T00:00:00\",\"2021-10-07T00:00:00\",\"2021-10-08T00:00:00\",\"2021-10-09T00:00:00\",\"2021-10-10T00:00:00\",\"2021-10-11T00:00:00\",\"2021-10-12T00:00:00\",\"2021-10-13T00:00:00\",\"2021-10-14T00:00:00\",\"2021-10-15T00:00:00\",\"2021-10-16T00:00:00\",\"2021-10-17T00:00:00\",\"2021-10-18T00:00:00\",\"2021-10-19T00:00:00\",\"2021-10-20T00:00:00\",\"2021-10-21T00:00:00\",\"2021-10-22T00:00:00\",\"2021-10-23T00:00:00\",\"2021-10-24T00:00:00\",\"2021-10-25T00:00:00\",\"2021-10-26T00:00:00\",\"2021-10-27T00:00:00\",\"2021-10-28T00:00:00\",\"2021-10-29T00:00:00\",\"2021-10-30T00:00:00\",\"2021-10-31T00:00:00\",\"2021-11-01T00:00:00\",\"2021-11-02T00:00:00\",\"2021-11-03T00:00:00\",\"2021-11-04T00:00:00\",\"2021-11-05T00:00:00\",\"2021-11-06T00:00:00\",\"2021-11-07T00:00:00\",\"2021-11-08T00:00:00\",\"2021-11-09T00:00:00\",\"2021-11-10T00:00:00\",\"2021-11-11T00:00:00\",\"2021-11-12T00:00:00\",\"2021-11-13T00:00:00\",\"2021-11-14T00:00:00\",\"2021-11-15T00:00:00\",\"2021-11-16T00:00:00\",\"2021-11-17T00:00:00\",\"2021-11-18T00:00:00\",\"2021-11-19T00:00:00\",\"2021-11-20T00:00:00\",\"2021-11-21T00:00:00\",\"2021-11-22T00:00:00\",\"2021-11-23T00:00:00\",\"2021-11-24T00:00:00\",\"2021-11-25T00:00:00\",\"2021-11-26T00:00:00\",\"2021-11-27T00:00:00\",\"2021-11-28T00:00:00\",\"2021-11-29T00:00:00\",\"2021-11-30T00:00:00\",\"2021-12-01T00:00:00\",\"2021-12-02T00:00:00\",\"2021-12-03T00:00:00\",\"2021-12-04T00:00:00\",\"2021-12-05T00:00:00\",\"2021-12-06T00:00:00\",\"2021-12-07T00:00:00\",\"2021-12-08T00:00:00\",\"2021-12-09T00:00:00\",\"2021-12-10T00:00:00\",\"2021-12-11T00:00:00\",\"2021-12-12T00:00:00\",\"2021-12-13T00:00:00\",\"2021-12-14T00:00:00\",\"2021-12-15T00:00:00\",\"2021-12-16T00:00:00\",\"2021-12-17T00:00:00\",\"2021-12-18T00:00:00\",\"2021-12-19T00:00:00\",\"2021-12-20T00:00:00\",\"2021-12-21T00:00:00\",\"2021-12-22T00:00:00\",\"2021-12-23T00:00:00\",\"2021-12-24T00:00:00\",\"2021-12-25T00:00:00\",\"2021-12-26T00:00:00\",\"2021-12-27T00:00:00\",\"2021-12-28T00:00:00\",\"2021-12-29T00:00:00\",\"2021-12-30T00:00:00\",\"2021-12-31T00:00:00\",\"2022-01-01T00:00:00\",\"2022-01-02T00:00:00\",\"2022-01-03T00:00:00\",\"2022-01-04T00:00:00\",\"2022-01-05T00:00:00\",\"2022-01-06T00:00:00\",\"2022-01-07T00:00:00\",\"2022-01-08T00:00:00\",\"2022-01-09T00:00:00\",\"2022-01-10T00:00:00\",\"2022-01-11T00:00:00\",\"2022-01-12T00:00:00\",\"2022-01-13T00:00:00\",\"2022-01-14T00:00:00\",\"2022-01-15T00:00:00\",\"2022-01-16T00:00:00\",\"2022-01-17T00:00:00\",\"2022-01-18T00:00:00\",\"2022-01-19T00:00:00\",\"2022-01-20T00:00:00\",\"2022-01-21T00:00:00\",\"2022-01-22T00:00:00\",\"2022-01-23T00:00:00\",\"2022-01-24T00:00:00\",\"2022-01-25T00:00:00\",\"2022-01-26T00:00:00\",\"2022-01-27T00:00:00\",\"2022-01-28T00:00:00\",\"2022-01-29T00:00:00\",\"2022-01-30T00:00:00\",\"2022-01-31T00:00:00\",\"2022-02-01T00:00:00\",\"2022-02-02T00:00:00\",\"2022-02-03T00:00:00\",\"2022-02-04T00:00:00\",\"2022-02-05T00:00:00\",\"2022-02-06T00:00:00\",\"2022-02-07T00:00:00\",\"2022-02-08T00:00:00\",\"2022-02-09T00:00:00\",\"2022-02-10T00:00:00\",\"2022-02-11T00:00:00\",\"2022-02-12T00:00:00\",\"2022-02-13T00:00:00\",\"2022-02-14T00:00:00\",\"2022-02-15T00:00:00\",\"2022-02-16T00:00:00\",\"2022-02-17T00:00:00\",\"2022-02-18T00:00:00\",\"2022-02-19T00:00:00\",\"2022-02-20T00:00:00\",\"2022-02-21T00:00:00\"],\"y\":[4979.83671638177,4463.300204659513,2869.476618083356,6974.632607666923,6502.946192985079,5088.896858766934,4031.671327971876,3858.719152057563,3152.075301316583,1359.278062265845,7133.875924797494,6243.07952926028,5578.234361401984,4373.548536963517,3516.2627020412906,2821.401408403162,1268.2807438622476,7185.751842437741,6482.820931564511,5720.067981625166,4676.42968060188,3804.1328821158468,3022.255732380732,2251.8776790305874,8376.702234914223,8037.009440079724,8214.2924829879,3802.656175936025,3753.4785450963855,2070.7548264520296,761.4669040699042,8495.401029883778,6824.792282424291,5758.192656463365,7054.754326760421,5757.451114941749,4515.2776764744285,3407.862704189383,9583.482386103706,9179.017503206022,7456.580119956152,6732.009295766338,5346.59296273077,4285.9715794241965,3664.008512222062,9521.382123267816,10355.913745314649,4979.379467742349,6633.601885652697,5214.852691103065,4185.05047382676,3151.56436221656,8118.016663793278,8134.386559425888,7360.539578969156,6312.8102190639165,4840.660440370463,4094.3446583214886,2949.6782508213237,9244.431792655263,8710.696512284921,7691.798015307166,5105.998245185699,6167.390838774376,4926.674416534356,3178.7315139190578,9656.274784729203,9135.79134088926,8648.893709051268,8339.943739237338,5845.005595215203,4840.14933992743,2587.9926349307134,9746.989281373848,9167.095334263568,7874.630348156251,7074.508461223956,5781.65670612272,4986.115951773746,3961.4823300799203,10185.562879798716,8950.35000562483,8386.550598410433,8149.192009170311,5718.003289978722,4644.897228555056,3728.029298519247,9571.315156017645,8922.737651299898,7801.1375130444985,12924.51668808024,12112.08024456209,4950.034358456464,4102.546855813087,10311.328131506165,8372.645127008615,8357.465622237138,6198.692094818174,6577.881933279749,5212.727574640597,4738.858783676463,9617.414129704397,8948.006731515674,7701.084931229627,6347.2829233009,6338.9143395932915,4387.134671373203,4040.2509287052317,10263.219902352088,9756.21388022893,8741.161539529567,8609.613771747678,7784.332814572488,4318.418330045292,3583.855023195839,20175.538205088902,15874.66146487239,8736.437653009396,8294.633566178925,5776.64186689987,4219.4940067448915,3483.735003643273,9888.347159058841,10662.954945603902,9394.87480374477,7303.996640950253,6155.240930462531,1649.957834865839,1054.3383869551433,7541.196832391357,6847.802368193318,5620.745493032653,3742.331308090507,3762.9575854026743,2484.2158641499927,1456.1100488855932,8589.956769828339,8034.509256498307,6904.829831251755,5979.771655340556,4923.665626954396,2543.263276744273,1756.6761528901836,7680.328885934635,7928.729779271492,5040.266197225392,4073.1975290391892,2947.7327113736687,1966.0204510649899,644.5712981154876,6920.177974280487,7145.890413530452,4934.959263188577,4580.416785082124,3267.8783771058465,1943.8881403867042,1150.7843625555133,6583.671166040486,6763.248012149373,5327.186373752438,4250.542791044932,1081.1071098990562,1914.2214016799142,944.1343225721494,6519.019624204709,6100.418255858453,5926.961168734451,4466.1352368086555,2490.8951633280085,2065.0497706102583,860.2528612316463,6619.583838513187,6233.173539635322,5462.127979708429,2965.133747800775,2950.079908927257,2359.1180237797585,547.8729633458885,6760.057578910174],\"type\":\"scatter\"}],                        {\"template\":{\"data\":{\"histogram2dcontour\":[{\"type\":\"histogram2dcontour\",\"colorbar\":{\"outlinewidth\":0,\"ticks\":\"\"},\"colorscale\":[[0.0,\"#0d0887\"],[0.1111111111111111,\"#46039f\"],[0.2222222222222222,\"#7201a8\"],[0.3333333333333333,\"#9c179e\"],[0.4444444444444444,\"#bd3786\"],[0.5555555555555556,\"#d8576b\"],[0.6666666666666666,\"#ed7953\"],[0.7777777777777778,\"#fb9f3a\"],[0.8888888888888888,\"#fdca26\"],[1.0,\"#f0f921\"]]}],\"choropleth\":[{\"type\":\"choropleth\",\"colorbar\":{\"outlinewidth\":0,\"ticks\":\"\"}}],\"histogram2d\":[{\"type\":\"histogram2d\",\"colorbar\":{\"outlinewidth\":0,\"ticks\":\"\"},\"colorscale\":[[0.0,\"#0d0887\"],[0.1111111111111111,\"#46039f\"],[0.2222222222222222,\"#7201a8\"],[0.3333333333333333,\"#9c179e\"],[0.4444444444444444,\"#bd3786\"],[0.5555555555555556,\"#d8576b\"],[0.6666666666666666,\"#ed7953\"],[0.7777777777777778,\"#fb9f3a\"],[0.8888888888888888,\"#fdca26\"],[1.0,\"#f0f921\"]]}],\"heatmap\":[{\"type\":\"heatmap\",\"colorbar\":{\"outlinewidth\":0,\"ticks\":\"\"},\"colorscale\":[[0.0,\"#0d0887\"],[0.1111111111111111,\"#46039f\"],[0.2222222222222222,\"#7201a8\"],[0.3333333333333333,\"#9c179e\"],[0.4444444444444444,\"#bd3786\"],[0.5555555555555556,\"#d8576b\"],[0.6666666666666666,\"#ed7953\"],[0.7777777777777778,\"#fb9f3a\"],[0.8888888888888888,\"#fdca26\"],[1.0,\"#f0f921\"]]}],\"heatmapgl\":[{\"type\":\"heatmapgl\",\"colorbar\":{\"outlinewidth\":0,\"ticks\":\"\"},\"colorscale\":[[0.0,\"#0d0887\"],[0.1111111111111111,\"#46039f\"],[0.2222222222222222,\"#7201a8\"],[0.3333333333333333,\"#9c179e\"],[0.4444444444444444,\"#bd3786\"],[0.5555555555555556,\"#d8576b\"],[0.6666666666666666,\"#ed7953\"],[0.7777777777777778,\"#fb9f3a\"],[0.8888888888888888,\"#fdca26\"],[1.0,\"#f0f921\"]]}],\"contourcarpet\":[{\"type\":\"contourcarpet\",\"colorbar\":{\"outlinewidth\":0,\"ticks\":\"\"}}],\"contour\":[{\"type\":\"contour\",\"colorbar\":{\"outlinewidth\":0,\"ticks\":\"\"},\"colorscale\":[[0.0,\"#0d0887\"],[0.1111111111111111,\"#46039f\"],[0.2222222222222222,\"#7201a8\"],[0.3333333333333333,\"#9c179e\"],[0.4444444444444444,\"#bd3786\"],[0.5555555555555556,\"#d8576b\"],[0.6666666666666666,\"#ed7953\"],[0.7777777777777778,\"#fb9f3a\"],[0.8888888888888888,\"#fdca26\"],[1.0,\"#f0f921\"]]}],\"surface\":[{\"type\":\"surface\",\"colorbar\":{\"outlinewidth\":0,\"ticks\":\"\"},\"colorscale\":[[0.0,\"#0d0887\"],[0.1111111111111111,\"#46039f\"],[0.2222222222222222,\"#7201a8\"],[0.3333333333333333,\"#9c179e\"],[0.4444444444444444,\"#bd3786\"],[0.5555555555555556,\"#d8576b\"],[0.6666666666666666,\"#ed7953\"],[0.7777777777777778,\"#fb9f3a\"],[0.8888888888888888,\"#fdca26\"],[1.0,\"#f0f921\"]]}],\"mesh3d\":[{\"type\":\"mesh3d\",\"colorbar\":{\"outlinewidth\":0,\"ticks\":\"\"}}],\"scatter\":[{\"fillpattern\":{\"fillmode\":\"overlay\",\"size\":10,\"solidity\":0.2},\"type\":\"scatter\"}],\"parcoords\":[{\"type\":\"parcoords\",\"line\":{\"colorbar\":{\"outlinewidth\":0,\"ticks\":\"\"}}}],\"scatterpolargl\":[{\"type\":\"scatterpolargl\",\"marker\":{\"colorbar\":{\"outlinewidth\":0,\"ticks\":\"\"}}}],\"bar\":[{\"error_x\":{\"color\":\"#2a3f5f\"},\"error_y\":{\"color\":\"#2a3f5f\"},\"marker\":{\"line\":{\"color\":\"#E5ECF6\",\"width\":0.5},\"pattern\":{\"fillmode\":\"overlay\",\"size\":10,\"solidity\":0.2}},\"type\":\"bar\"}],\"scattergeo\":[{\"type\":\"scattergeo\",\"marker\":{\"colorbar\":{\"outlinewidth\":0,\"ticks\":\"\"}}}],\"scatterpolar\":[{\"type\":\"scatterpolar\",\"marker\":{\"colorbar\":{\"outlinewidth\":0,\"ticks\":\"\"}}}],\"histogram\":[{\"marker\":{\"pattern\":{\"fillmode\":\"overlay\",\"size\":10,\"solidity\":0.2}},\"type\":\"histogram\"}],\"scattergl\":[{\"type\":\"scattergl\",\"marker\":{\"colorbar\":{\"outlinewidth\":0,\"ticks\":\"\"}}}],\"scatter3d\":[{\"type\":\"scatter3d\",\"line\":{\"colorbar\":{\"outlinewidth\":0,\"ticks\":\"\"}},\"marker\":{\"colorbar\":{\"outlinewidth\":0,\"ticks\":\"\"}}}],\"scattermapbox\":[{\"type\":\"scattermapbox\",\"marker\":{\"colorbar\":{\"outlinewidth\":0,\"ticks\":\"\"}}}],\"scatterternary\":[{\"type\":\"scatterternary\",\"marker\":{\"colorbar\":{\"outlinewidth\":0,\"ticks\":\"\"}}}],\"scattercarpet\":[{\"type\":\"scattercarpet\",\"marker\":{\"colorbar\":{\"outlinewidth\":0,\"ticks\":\"\"}}}],\"carpet\":[{\"aaxis\":{\"endlinecolor\":\"#2a3f5f\",\"gridcolor\":\"white\",\"linecolor\":\"white\",\"minorgridcolor\":\"white\",\"startlinecolor\":\"#2a3f5f\"},\"baxis\":{\"endlinecolor\":\"#2a3f5f\",\"gridcolor\":\"white\",\"linecolor\":\"white\",\"minorgridcolor\":\"white\",\"startlinecolor\":\"#2a3f5f\"},\"type\":\"carpet\"}],\"table\":[{\"cells\":{\"fill\":{\"color\":\"#EBF0F8\"},\"line\":{\"color\":\"white\"}},\"header\":{\"fill\":{\"color\":\"#C8D4E3\"},\"line\":{\"color\":\"white\"}},\"type\":\"table\"}],\"barpolar\":[{\"marker\":{\"line\":{\"color\":\"#E5ECF6\",\"width\":0.5},\"pattern\":{\"fillmode\":\"overlay\",\"size\":10,\"solidity\":0.2}},\"type\":\"barpolar\"}],\"pie\":[{\"automargin\":true,\"type\":\"pie\"}]},\"layout\":{\"autotypenumbers\":\"strict\",\"colorway\":[\"#636efa\",\"#EF553B\",\"#00cc96\",\"#ab63fa\",\"#FFA15A\",\"#19d3f3\",\"#FF6692\",\"#B6E880\",\"#FF97FF\",\"#FECB52\"],\"font\":{\"color\":\"#2a3f5f\"},\"hovermode\":\"closest\",\"hoverlabel\":{\"align\":\"left\"},\"paper_bgcolor\":\"white\",\"plot_bgcolor\":\"#E5ECF6\",\"polar\":{\"bgcolor\":\"#E5ECF6\",\"angularaxis\":{\"gridcolor\":\"white\",\"linecolor\":\"white\",\"ticks\":\"\"},\"radialaxis\":{\"gridcolor\":\"white\",\"linecolor\":\"white\",\"ticks\":\"\"}},\"ternary\":{\"bgcolor\":\"#E5ECF6\",\"aaxis\":{\"gridcolor\":\"white\",\"linecolor\":\"white\",\"ticks\":\"\"},\"baxis\":{\"gridcolor\":\"white\",\"linecolor\":\"white\",\"ticks\":\"\"},\"caxis\":{\"gridcolor\":\"white\",\"linecolor\":\"white\",\"ticks\":\"\"}},\"coloraxis\":{\"colorbar\":{\"outlinewidth\":0,\"ticks\":\"\"}},\"colorscale\":{\"sequential\":[[0.0,\"#0d0887\"],[0.1111111111111111,\"#46039f\"],[0.2222222222222222,\"#7201a8\"],[0.3333333333333333,\"#9c179e\"],[0.4444444444444444,\"#bd3786\"],[0.5555555555555556,\"#d8576b\"],[0.6666666666666666,\"#ed7953\"],[0.7777777777777778,\"#fb9f3a\"],[0.8888888888888888,\"#fdca26\"],[1.0,\"#f0f921\"]],\"sequentialminus\":[[0.0,\"#0d0887\"],[0.1111111111111111,\"#46039f\"],[0.2222222222222222,\"#7201a8\"],[0.3333333333333333,\"#9c179e\"],[0.4444444444444444,\"#bd3786\"],[0.5555555555555556,\"#d8576b\"],[0.6666666666666666,\"#ed7953\"],[0.7777777777777778,\"#fb9f3a\"],[0.8888888888888888,\"#fdca26\"],[1.0,\"#f0f921\"]],\"diverging\":[[0,\"#8e0152\"],[0.1,\"#c51b7d\"],[0.2,\"#de77ae\"],[0.3,\"#f1b6da\"],[0.4,\"#fde0ef\"],[0.5,\"#f7f7f7\"],[0.6,\"#e6f5d0\"],[0.7,\"#b8e186\"],[0.8,\"#7fbc41\"],[0.9,\"#4d9221\"],[1,\"#276419\"]]},\"xaxis\":{\"gridcolor\":\"white\",\"linecolor\":\"white\",\"ticks\":\"\",\"title\":{\"standoff\":15},\"zerolinecolor\":\"white\",\"automargin\":true,\"zerolinewidth\":2},\"yaxis\":{\"gridcolor\":\"white\",\"linecolor\":\"white\",\"ticks\":\"\",\"title\":{\"standoff\":15},\"zerolinecolor\":\"white\",\"automargin\":true,\"zerolinewidth\":2},\"scene\":{\"xaxis\":{\"backgroundcolor\":\"#E5ECF6\",\"gridcolor\":\"white\",\"linecolor\":\"white\",\"showbackground\":true,\"ticks\":\"\",\"zerolinecolor\":\"white\",\"gridwidth\":2},\"yaxis\":{\"backgroundcolor\":\"#E5ECF6\",\"gridcolor\":\"white\",\"linecolor\":\"white\",\"showbackground\":true,\"ticks\":\"\",\"zerolinecolor\":\"white\",\"gridwidth\":2},\"zaxis\":{\"backgroundcolor\":\"#E5ECF6\",\"gridcolor\":\"white\",\"linecolor\":\"white\",\"showbackground\":true,\"ticks\":\"\",\"zerolinecolor\":\"white\",\"gridwidth\":2}},\"shapedefaults\":{\"line\":{\"color\":\"#2a3f5f\"}},\"annotationdefaults\":{\"arrowcolor\":\"#2a3f5f\",\"arrowhead\":0,\"arrowwidth\":1},\"geo\":{\"bgcolor\":\"white\",\"landcolor\":\"#E5ECF6\",\"subunitcolor\":\"white\",\"showland\":true,\"showlakes\":true,\"lakecolor\":\"white\"},\"title\":{\"x\":0.05},\"mapbox\":{\"style\":\"light\"}}},\"yaxis\":{\"title\":{\"text\":\"Revenue\"}}},                        {\"responsive\": true}                    ).then(function(){\n",
       "                            \n",
       "var gd = document.getElementById('fa0854c6-e186-4f75-a977-34596a37e8fb');\n",
       "var x = new MutationObserver(function (mutations, observer) {{\n",
       "        var display = window.getComputedStyle(gd).display;\n",
       "        if (!display || display === 'none') {{\n",
       "            console.log([gd, 'removed!']);\n",
       "            Plotly.purge(gd);\n",
       "            observer.disconnect();\n",
       "        }}\n",
       "}});\n",
       "\n",
       "// Listen for the removal of the full notebook cells\n",
       "var notebookContainer = gd.closest('#notebook-container');\n",
       "if (notebookContainer) {{\n",
       "    x.observe(notebookContainer, {childList: true});\n",
       "}}\n",
       "\n",
       "// Listen for the clearing of the current output cell\n",
       "var outputEl = gd.closest('.output');\n",
       "if (outputEl) {{\n",
       "    x.observe(outputEl, {childList: true});\n",
       "}}\n",
       "\n",
       "                        })                };                });            </script>        </div>"
      ]
     },
     "metadata": {},
     "output_type": "display_data"
    }
   ],
   "source": [
    "#plotting actual and predicted revenue\n",
    "import plotly.graph_objects as go\n",
    "fig = go.Figure(go.Scatter(x = data_final['ordine_data'], y=data_final['revenue'], name = 'revenue'))\n",
    "fig.add_trace(go.Scatter(x=data_final['ordine_data'], y=data_final['Y_pred'], name = 'predicted revenue'))\n",
    "fig.update_layout(yaxis_title=\"Revenue\")\n",
    "fig.show()"
   ]
  },
  {
   "cell_type": "markdown",
   "id": "8e60790a",
   "metadata": {},
   "source": [
    "#### From the graph, we can see that the model captures the general trend of revenue, however its precision in predicting specific revenue values falls short. Upon evaluating the OLS regression results, it's evident that addressing the evident multicollinearity, as indicated by the substantial condition number, is crucial for model improvement. There's also potential to enhance the model's significance by re-evaluating or transforming predictors with high p-values, such as 'const', 'google_organico', 'year', and 'day'. Furthermore, to better capture the underlying patterns in the data, we might consider introducing other factors not currently in the model.  We will continue working on this model to improve its performance."
   ]
  }
 ],
 "metadata": {
  "kernelspec": {
   "display_name": "Python 3 (ipykernel)",
   "language": "python",
   "name": "python3"
  },
  "language_info": {
   "codemirror_mode": {
    "name": "ipython",
    "version": 3
   },
   "file_extension": ".py",
   "mimetype": "text/x-python",
   "name": "python",
   "nbconvert_exporter": "python",
   "pygments_lexer": "ipython3",
   "version": "3.9.13"
  }
 },
 "nbformat": 4,
 "nbformat_minor": 5
}
